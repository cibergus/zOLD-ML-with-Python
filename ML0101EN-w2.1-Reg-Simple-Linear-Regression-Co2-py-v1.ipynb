{
 "cells": [
  {
   "cell_type": "markdown",
   "metadata": {
    "button": false,
    "deletable": true,
    "new_sheet": false,
    "run_control": {
     "read_only": false
    }
   },
   "source": [
    "<a href=\"https://cognitiveclass.ai"><img src=\"https://ibm.box.com/shared/static/cw2c7r3o20w9zn8gkecaeyjhgw3xdgbj.png\" width=\"400\" align=\"center\"></a>\n",
    "\n",
    "<h1><center>Simple Linear Regression</center></h1>\n",
    "\n",
    "\n",
    "<h4>About this Notebook</h4>\n",
    "In this notebook, we learn how to use scikit-learn to implement simple linear regression. We download a dataset that is related to fuel consumption and Carbon dioxide emission of cars. Then, we split our data into training and test sets, create a model using training set, evaluate your model using test set, and finally use model to predict unknown value.\n"
   ]
  },
  {
   "cell_type": "markdown",
   "metadata": {},
   "source": [
    "<h1>Table of contents</h1>\n",
    "\n",
    "<div class=\"alert alert-block alert-info\" style=\"margin-top: 20px\">\n",
    "    <ol>\n",
    "        <li><a href=\"#understanding_data\">Understanding the Data</a></li>\n",
    "        <li><a href=\"#reading_data\">Reading the data in</a></li>\n",
    "        <li><a href=\"#data_exploration\">Data Exploration</a></li>\n",
    "        <li><a href=\"#simple_regression\">Simple Regression Model</a></li>\n",
    "    </ol>\n",
    "</div>\n",
    "<br>\n",
    "<hr>"
   ]
  },
  {
   "cell_type": "markdown",
   "metadata": {
    "button": false,
    "deletable": true,
    "new_sheet": false,
    "run_control": {
     "read_only": false
    }
   },
   "source": [
    "### Importing Needed packages"
   ]
  },
  {
   "cell_type": "code",
   "execution_count": 1,
   "metadata": {
    "button": false,
    "deletable": true,
    "new_sheet": false,
    "run_control": {
     "read_only": false
    }
   },
   "outputs": [],
   "source": [
    "import matplotlib.pyplot as plt\n",
    "import pandas as pd\n",
    "import pylab as pl\n",
    "import numpy as np\n",
    "%matplotlib inline"
   ]
  },
  {
   "cell_type": "markdown",
   "metadata": {
    "button": false,
    "deletable": true,
    "new_sheet": false,
    "run_control": {
     "read_only": false
    }
   },
   "source": [
    "### Downloading Data\n",
    "To download the data, we will use !wget to download it from IBM Object Storage."
   ]
  },
  {
   "cell_type": "code",
   "execution_count": 3,
   "metadata": {
    "button": false,
    "deletable": true,
    "new_sheet": false,
    "run_control": {
     "read_only": false
    }
   },
   "outputs": [
    {
     "name": "stdout",
     "output_type": "stream",
     "text": [
      "--2020-02-22 19:37:12--  https://s3-api.us-geo.objectstorage.softlayer.net/cf-courses-data/CognitiveClass/ML0101ENv3/labs/FuelConsumptionCo2.csv\n",
      "Resolving s3-api.us-geo.objectstorage.softlayer.net (s3-api.us-geo.objectstorage.softlayer.net)... 67.228.254.196\n",
      "Connecting to s3-api.us-geo.objectstorage.softlayer.net (s3-api.us-geo.objectstorage.softlayer.net)|67.228.254.196|:443... connected.\n",
      "HTTP request sent, awaiting response... 200 OK\n",
      "Length: 72629 (71K) [text/csv]\n",
      "Saving to: ‘FuelConsumption.csv’\n",
      "\n",
      "FuelConsumption.csv 100%[===================>]  70.93K  --.-KB/s    in 0.04s   \n",
      "\n",
      "2020-02-22 19:37:12 (1.58 MB/s) - ‘FuelConsumption.csv’ saved [72629/72629]\n",
      "\n"
     ]
    }
   ],
   "source": [
    "!wget -O FuelConsumption.csv https://s3-api.us-geo.objectstorage.softlayer.net/cf-courses-data/CognitiveClass/ML0101ENv3/labs/FuelConsumptionCo2.csv"
   ]
  },
  {
   "cell_type": "markdown",
   "metadata": {},
   "source": [
    "__Did you know?__ When it comes to Machine Learning, you will likely be working with large datasets. As a business, where can you host your data? IBM is offering a unique opportunity for businesses, with 10 Tb of IBM Cloud Object Storage: [Sign up now for free](http://cocl.us/ML0101EN-IBM-Offer-CC)"
   ]
  },
  {
   "cell_type": "markdown",
   "metadata": {
    "button": false,
    "deletable": true,
    "new_sheet": false,
    "run_control": {
     "read_only": false
    }
   },
   "source": [
    "\n",
    "<h2 id=\"understanding_data\">Understanding the Data</h2>\n",
    "\n",
    "### `FuelConsumption.csv`:\n",
    "We have downloaded a fuel consumption dataset, **`FuelConsumption.csv`**, which contains model-specific fuel consumption ratings and estimated carbon dioxide emissions for new light-duty vehicles for retail sale in Canada. [Dataset source](http://open.canada.ca/data/en/dataset/98f1a129-f628-4ce4-b24d-6f16bf24dd64)\n",
    "\n",
    "- **MODELYEAR** e.g. 2014\n",
    "- **MAKE** e.g. Acura\n",
    "- **MODEL** e.g. ILX\n",
    "- **VEHICLE CLASS** e.g. SUV\n",
    "- **ENGINE SIZE** e.g. 4.7\n",
    "- **CYLINDERS** e.g 6\n",
    "- **TRANSMISSION** e.g. A6\n",
    "- **FUEL CONSUMPTION in CITY(L/100 km)** e.g. 9.9\n",
    "- **FUEL CONSUMPTION in HWY (L/100 km)** e.g. 8.9\n",
    "- **FUEL CONSUMPTION COMB (L/100 km)** e.g. 9.2\n",
    "- **CO2 EMISSIONS (g/km)** e.g. 182   --> low --> 0\n"
   ]
  },
  {
   "cell_type": "markdown",
   "metadata": {
    "button": false,
    "deletable": true,
    "new_sheet": false,
    "run_control": {
     "read_only": false
    }
   },
   "source": [
    "<h2 id=\"reading_data\">Reading the data in</h2>"
   ]
  },
  {
   "cell_type": "code",
   "execution_count": 4,
   "metadata": {
    "button": false,
    "deletable": true,
    "new_sheet": false,
    "run_control": {
     "read_only": false
    }
   },
   "outputs": [
    {
     "data": {
      "text/html": [
       "<div>\n",
       "<style scoped>\n",
       "    .dataframe tbody tr th:only-of-type {\n",
       "        vertical-align: middle;\n",
       "    }\n",
       "\n",
       "    .dataframe tbody tr th {\n",
       "        vertical-align: top;\n",
       "    }\n",
       "\n",
       "    .dataframe thead th {\n",
       "        text-align: right;\n",
       "    }\n",
       "</style>\n",
       "<table border=\"1\" class=\"dataframe\">\n",
       "  <thead>\n",
       "    <tr style=\"text-align: right;\">\n",
       "      <th></th>\n",
       "      <th>MODELYEAR</th>\n",
       "      <th>MAKE</th>\n",
       "      <th>MODEL</th>\n",
       "      <th>VEHICLECLASS</th>\n",
       "      <th>ENGINESIZE</th>\n",
       "      <th>CYLINDERS</th>\n",
       "      <th>TRANSMISSION</th>\n",
       "      <th>FUELTYPE</th>\n",
       "      <th>FUELCONSUMPTION_CITY</th>\n",
       "      <th>FUELCONSUMPTION_HWY</th>\n",
       "      <th>FUELCONSUMPTION_COMB</th>\n",
       "      <th>FUELCONSUMPTION_COMB_MPG</th>\n",
       "      <th>CO2EMISSIONS</th>\n",
       "    </tr>\n",
       "  </thead>\n",
       "  <tbody>\n",
       "    <tr>\n",
       "      <th>0</th>\n",
       "      <td>2014</td>\n",
       "      <td>ACURA</td>\n",
       "      <td>ILX</td>\n",
       "      <td>COMPACT</td>\n",
       "      <td>2.0</td>\n",
       "      <td>4</td>\n",
       "      <td>AS5</td>\n",
       "      <td>Z</td>\n",
       "      <td>9.9</td>\n",
       "      <td>6.7</td>\n",
       "      <td>8.5</td>\n",
       "      <td>33</td>\n",
       "      <td>196</td>\n",
       "    </tr>\n",
       "    <tr>\n",
       "      <th>1</th>\n",
       "      <td>2014</td>\n",
       "      <td>ACURA</td>\n",
       "      <td>ILX</td>\n",
       "      <td>COMPACT</td>\n",
       "      <td>2.4</td>\n",
       "      <td>4</td>\n",
       "      <td>M6</td>\n",
       "      <td>Z</td>\n",
       "      <td>11.2</td>\n",
       "      <td>7.7</td>\n",
       "      <td>9.6</td>\n",
       "      <td>29</td>\n",
       "      <td>221</td>\n",
       "    </tr>\n",
       "    <tr>\n",
       "      <th>2</th>\n",
       "      <td>2014</td>\n",
       "      <td>ACURA</td>\n",
       "      <td>ILX HYBRID</td>\n",
       "      <td>COMPACT</td>\n",
       "      <td>1.5</td>\n",
       "      <td>4</td>\n",
       "      <td>AV7</td>\n",
       "      <td>Z</td>\n",
       "      <td>6.0</td>\n",
       "      <td>5.8</td>\n",
       "      <td>5.9</td>\n",
       "      <td>48</td>\n",
       "      <td>136</td>\n",
       "    </tr>\n",
       "    <tr>\n",
       "      <th>3</th>\n",
       "      <td>2014</td>\n",
       "      <td>ACURA</td>\n",
       "      <td>MDX 4WD</td>\n",
       "      <td>SUV - SMALL</td>\n",
       "      <td>3.5</td>\n",
       "      <td>6</td>\n",
       "      <td>AS6</td>\n",
       "      <td>Z</td>\n",
       "      <td>12.7</td>\n",
       "      <td>9.1</td>\n",
       "      <td>11.1</td>\n",
       "      <td>25</td>\n",
       "      <td>255</td>\n",
       "    </tr>\n",
       "    <tr>\n",
       "      <th>4</th>\n",
       "      <td>2014</td>\n",
       "      <td>ACURA</td>\n",
       "      <td>RDX AWD</td>\n",
       "      <td>SUV - SMALL</td>\n",
       "      <td>3.5</td>\n",
       "      <td>6</td>\n",
       "      <td>AS6</td>\n",
       "      <td>Z</td>\n",
       "      <td>12.1</td>\n",
       "      <td>8.7</td>\n",
       "      <td>10.6</td>\n",
       "      <td>27</td>\n",
       "      <td>244</td>\n",
       "    </tr>\n",
       "  </tbody>\n",
       "</table>\n",
       "</div>"
      ],
      "text/plain": [
       "   MODELYEAR   MAKE       MODEL VEHICLECLASS  ENGINESIZE  CYLINDERS  \\\n",
       "0       2014  ACURA         ILX      COMPACT         2.0          4   \n",
       "1       2014  ACURA         ILX      COMPACT         2.4          4   \n",
       "2       2014  ACURA  ILX HYBRID      COMPACT         1.5          4   \n",
       "3       2014  ACURA     MDX 4WD  SUV - SMALL         3.5          6   \n",
       "4       2014  ACURA     RDX AWD  SUV - SMALL         3.5          6   \n",
       "\n",
       "  TRANSMISSION FUELTYPE  FUELCONSUMPTION_CITY  FUELCONSUMPTION_HWY  \\\n",
       "0          AS5        Z                   9.9                  6.7   \n",
       "1           M6        Z                  11.2                  7.7   \n",
       "2          AV7        Z                   6.0                  5.8   \n",
       "3          AS6        Z                  12.7                  9.1   \n",
       "4          AS6        Z                  12.1                  8.7   \n",
       "\n",
       "   FUELCONSUMPTION_COMB  FUELCONSUMPTION_COMB_MPG  CO2EMISSIONS  \n",
       "0                   8.5                        33           196  \n",
       "1                   9.6                        29           221  \n",
       "2                   5.9                        48           136  \n",
       "3                  11.1                        25           255  \n",
       "4                  10.6                        27           244  "
      ]
     },
     "execution_count": 4,
     "metadata": {},
     "output_type": "execute_result"
    }
   ],
   "source": [
    "df = pd.read_csv(\"FuelConsumption.csv\")\n",
    "\n",
    "# take a look at the dataset\n",
    "df.head()\n",
    "\n"
   ]
  },
  {
   "cell_type": "markdown",
   "metadata": {
    "button": false,
    "deletable": true,
    "new_sheet": false,
    "run_control": {
     "read_only": false
    }
   },
   "source": [
    "<h2 id=\"data_exploration\">Data Exploration</h2>\n",
    "Lets first have a descriptive exploration on our data."
   ]
  },
  {
   "cell_type": "code",
   "execution_count": 5,
   "metadata": {
    "button": false,
    "deletable": true,
    "new_sheet": false,
    "run_control": {
     "read_only": false
    }
   },
   "outputs": [
    {
     "data": {
      "text/html": [
       "<div>\n",
       "<style scoped>\n",
       "    .dataframe tbody tr th:only-of-type {\n",
       "        vertical-align: middle;\n",
       "    }\n",
       "\n",
       "    .dataframe tbody tr th {\n",
       "        vertical-align: top;\n",
       "    }\n",
       "\n",
       "    .dataframe thead th {\n",
       "        text-align: right;\n",
       "    }\n",
       "</style>\n",
       "<table border=\"1\" class=\"dataframe\">\n",
       "  <thead>\n",
       "    <tr style=\"text-align: right;\">\n",
       "      <th></th>\n",
       "      <th>MODELYEAR</th>\n",
       "      <th>ENGINESIZE</th>\n",
       "      <th>CYLINDERS</th>\n",
       "      <th>FUELCONSUMPTION_CITY</th>\n",
       "      <th>FUELCONSUMPTION_HWY</th>\n",
       "      <th>FUELCONSUMPTION_COMB</th>\n",
       "      <th>FUELCONSUMPTION_COMB_MPG</th>\n",
       "      <th>CO2EMISSIONS</th>\n",
       "    </tr>\n",
       "  </thead>\n",
       "  <tbody>\n",
       "    <tr>\n",
       "      <th>count</th>\n",
       "      <td>1067.0</td>\n",
       "      <td>1067.000000</td>\n",
       "      <td>1067.000000</td>\n",
       "      <td>1067.000000</td>\n",
       "      <td>1067.000000</td>\n",
       "      <td>1067.000000</td>\n",
       "      <td>1067.000000</td>\n",
       "      <td>1067.000000</td>\n",
       "    </tr>\n",
       "    <tr>\n",
       "      <th>mean</th>\n",
       "      <td>2014.0</td>\n",
       "      <td>3.346298</td>\n",
       "      <td>5.794752</td>\n",
       "      <td>13.296532</td>\n",
       "      <td>9.474602</td>\n",
       "      <td>11.580881</td>\n",
       "      <td>26.441425</td>\n",
       "      <td>256.228679</td>\n",
       "    </tr>\n",
       "    <tr>\n",
       "      <th>std</th>\n",
       "      <td>0.0</td>\n",
       "      <td>1.415895</td>\n",
       "      <td>1.797447</td>\n",
       "      <td>4.101253</td>\n",
       "      <td>2.794510</td>\n",
       "      <td>3.485595</td>\n",
       "      <td>7.468702</td>\n",
       "      <td>63.372304</td>\n",
       "    </tr>\n",
       "    <tr>\n",
       "      <th>min</th>\n",
       "      <td>2014.0</td>\n",
       "      <td>1.000000</td>\n",
       "      <td>3.000000</td>\n",
       "      <td>4.600000</td>\n",
       "      <td>4.900000</td>\n",
       "      <td>4.700000</td>\n",
       "      <td>11.000000</td>\n",
       "      <td>108.000000</td>\n",
       "    </tr>\n",
       "    <tr>\n",
       "      <th>25%</th>\n",
       "      <td>2014.0</td>\n",
       "      <td>2.000000</td>\n",
       "      <td>4.000000</td>\n",
       "      <td>10.250000</td>\n",
       "      <td>7.500000</td>\n",
       "      <td>9.000000</td>\n",
       "      <td>21.000000</td>\n",
       "      <td>207.000000</td>\n",
       "    </tr>\n",
       "    <tr>\n",
       "      <th>50%</th>\n",
       "      <td>2014.0</td>\n",
       "      <td>3.400000</td>\n",
       "      <td>6.000000</td>\n",
       "      <td>12.600000</td>\n",
       "      <td>8.800000</td>\n",
       "      <td>10.900000</td>\n",
       "      <td>26.000000</td>\n",
       "      <td>251.000000</td>\n",
       "    </tr>\n",
       "    <tr>\n",
       "      <th>75%</th>\n",
       "      <td>2014.0</td>\n",
       "      <td>4.300000</td>\n",
       "      <td>8.000000</td>\n",
       "      <td>15.550000</td>\n",
       "      <td>10.850000</td>\n",
       "      <td>13.350000</td>\n",
       "      <td>31.000000</td>\n",
       "      <td>294.000000</td>\n",
       "    </tr>\n",
       "    <tr>\n",
       "      <th>max</th>\n",
       "      <td>2014.0</td>\n",
       "      <td>8.400000</td>\n",
       "      <td>12.000000</td>\n",
       "      <td>30.200000</td>\n",
       "      <td>20.500000</td>\n",
       "      <td>25.800000</td>\n",
       "      <td>60.000000</td>\n",
       "      <td>488.000000</td>\n",
       "    </tr>\n",
       "  </tbody>\n",
       "</table>\n",
       "</div>"
      ],
      "text/plain": [
       "       MODELYEAR   ENGINESIZE    CYLINDERS  FUELCONSUMPTION_CITY  \\\n",
       "count     1067.0  1067.000000  1067.000000           1067.000000   \n",
       "mean      2014.0     3.346298     5.794752             13.296532   \n",
       "std          0.0     1.415895     1.797447              4.101253   \n",
       "min       2014.0     1.000000     3.000000              4.600000   \n",
       "25%       2014.0     2.000000     4.000000             10.250000   \n",
       "50%       2014.0     3.400000     6.000000             12.600000   \n",
       "75%       2014.0     4.300000     8.000000             15.550000   \n",
       "max       2014.0     8.400000    12.000000             30.200000   \n",
       "\n",
       "       FUELCONSUMPTION_HWY  FUELCONSUMPTION_COMB  FUELCONSUMPTION_COMB_MPG  \\\n",
       "count          1067.000000           1067.000000               1067.000000   \n",
       "mean              9.474602             11.580881                 26.441425   \n",
       "std               2.794510              3.485595                  7.468702   \n",
       "min               4.900000              4.700000                 11.000000   \n",
       "25%               7.500000              9.000000                 21.000000   \n",
       "50%               8.800000             10.900000                 26.000000   \n",
       "75%              10.850000             13.350000                 31.000000   \n",
       "max              20.500000             25.800000                 60.000000   \n",
       "\n",
       "       CO2EMISSIONS  \n",
       "count   1067.000000  \n",
       "mean     256.228679  \n",
       "std       63.372304  \n",
       "min      108.000000  \n",
       "25%      207.000000  \n",
       "50%      251.000000  \n",
       "75%      294.000000  \n",
       "max      488.000000  "
      ]
     },
     "execution_count": 5,
     "metadata": {},
     "output_type": "execute_result"
    }
   ],
   "source": [
    "# summarize the data\n",
    "df.describe()"
   ]
  },
  {
   "cell_type": "markdown",
   "metadata": {},
   "source": [
    "Lets select some features to explore more."
   ]
  },
  {
   "cell_type": "code",
   "execution_count": 6,
   "metadata": {
    "button": false,
    "deletable": true,
    "new_sheet": false,
    "run_control": {
     "read_only": false
    }
   },
   "outputs": [
    {
     "data": {
      "text/html": [
       "<div>\n",
       "<style scoped>\n",
       "    .dataframe tbody tr th:only-of-type {\n",
       "        vertical-align: middle;\n",
       "    }\n",
       "\n",
       "    .dataframe tbody tr th {\n",
       "        vertical-align: top;\n",
       "    }\n",
       "\n",
       "    .dataframe thead th {\n",
       "        text-align: right;\n",
       "    }\n",
       "</style>\n",
       "<table border=\"1\" class=\"dataframe\">\n",
       "  <thead>\n",
       "    <tr style=\"text-align: right;\">\n",
       "      <th></th>\n",
       "      <th>ENGINESIZE</th>\n",
       "      <th>CYLINDERS</th>\n",
       "      <th>FUELCONSUMPTION_COMB</th>\n",
       "      <th>CO2EMISSIONS</th>\n",
       "    </tr>\n",
       "  </thead>\n",
       "  <tbody>\n",
       "    <tr>\n",
       "      <th>0</th>\n",
       "      <td>2.0</td>\n",
       "      <td>4</td>\n",
       "      <td>8.5</td>\n",
       "      <td>196</td>\n",
       "    </tr>\n",
       "    <tr>\n",
       "      <th>1</th>\n",
       "      <td>2.4</td>\n",
       "      <td>4</td>\n",
       "      <td>9.6</td>\n",
       "      <td>221</td>\n",
       "    </tr>\n",
       "    <tr>\n",
       "      <th>2</th>\n",
       "      <td>1.5</td>\n",
       "      <td>4</td>\n",
       "      <td>5.9</td>\n",
       "      <td>136</td>\n",
       "    </tr>\n",
       "    <tr>\n",
       "      <th>3</th>\n",
       "      <td>3.5</td>\n",
       "      <td>6</td>\n",
       "      <td>11.1</td>\n",
       "      <td>255</td>\n",
       "    </tr>\n",
       "    <tr>\n",
       "      <th>4</th>\n",
       "      <td>3.5</td>\n",
       "      <td>6</td>\n",
       "      <td>10.6</td>\n",
       "      <td>244</td>\n",
       "    </tr>\n",
       "    <tr>\n",
       "      <th>5</th>\n",
       "      <td>3.5</td>\n",
       "      <td>6</td>\n",
       "      <td>10.0</td>\n",
       "      <td>230</td>\n",
       "    </tr>\n",
       "    <tr>\n",
       "      <th>6</th>\n",
       "      <td>3.5</td>\n",
       "      <td>6</td>\n",
       "      <td>10.1</td>\n",
       "      <td>232</td>\n",
       "    </tr>\n",
       "    <tr>\n",
       "      <th>7</th>\n",
       "      <td>3.7</td>\n",
       "      <td>6</td>\n",
       "      <td>11.1</td>\n",
       "      <td>255</td>\n",
       "    </tr>\n",
       "    <tr>\n",
       "      <th>8</th>\n",
       "      <td>3.7</td>\n",
       "      <td>6</td>\n",
       "      <td>11.6</td>\n",
       "      <td>267</td>\n",
       "    </tr>\n",
       "  </tbody>\n",
       "</table>\n",
       "</div>"
      ],
      "text/plain": [
       "   ENGINESIZE  CYLINDERS  FUELCONSUMPTION_COMB  CO2EMISSIONS\n",
       "0         2.0          4                   8.5           196\n",
       "1         2.4          4                   9.6           221\n",
       "2         1.5          4                   5.9           136\n",
       "3         3.5          6                  11.1           255\n",
       "4         3.5          6                  10.6           244\n",
       "5         3.5          6                  10.0           230\n",
       "6         3.5          6                  10.1           232\n",
       "7         3.7          6                  11.1           255\n",
       "8         3.7          6                  11.6           267"
      ]
     },
     "execution_count": 6,
     "metadata": {},
     "output_type": "execute_result"
    }
   ],
   "source": [
    "cdf = df[['ENGINESIZE','CYLINDERS','FUELCONSUMPTION_COMB','CO2EMISSIONS']]\n",
    "cdf.head(9)"
   ]
  },
  {
   "cell_type": "markdown",
   "metadata": {},
   "source": [
    "we can plot each of these features:"
   ]
  },
  {
   "cell_type": "code",
   "execution_count": 7,
   "metadata": {
    "button": false,
    "deletable": true,
    "new_sheet": false,
    "run_control": {
     "read_only": false
    }
   },
   "outputs": [
    {
     "data": {
      "image/png": "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\n",
      "text/plain": [
       "<Figure size 432x288 with 4 Axes>"
      ]
     },
     "metadata": {
      "needs_background": "light"
     },
     "output_type": "display_data"
    }
   ],
   "source": [
    "viz = cdf[['CYLINDERS','ENGINESIZE','CO2EMISSIONS','FUELCONSUMPTION_COMB']]\n",
    "viz.hist()\n",
    "plt.show()"
   ]
  },
  {
   "cell_type": "markdown",
   "metadata": {},
   "source": [
    "Now, lets plot each of these features vs the Emission, to see how linear is their relation:"
   ]
  },
  {
   "cell_type": "code",
   "execution_count": 8,
   "metadata": {
    "button": false,
    "deletable": true,
    "new_sheet": false,
    "run_control": {
     "read_only": false
    }
   },
   "outputs": [
    {
     "data": {
      "image/png": "iVBORw0KGgoAAAANSUhEUgAAAYUAAAEICAYAAACwDehOAAAABHNCSVQICAgIfAhkiAAAAAlwSFlzAAALEgAACxIB0t1+/AAAADh0RVh0U29mdHdhcmUAbWF0cGxvdGxpYiB2ZXJzaW9uMy4xLjEsIGh0dHA6Ly9tYXRwbG90bGliLm9yZy8QZhcZAAAgAElEQVR4nO3de7SddX3n8fcnJwEJlxJKoLmRUAztnGNrtGeYaXE51hwKg1RkpmpooNBxJpeNI70qMZ2lY1c6TMcL9kIgVkZKtmJW1YFStSURlnbqkgaMQIKUdEhCAkOCQjXEoST5zh/Ps0+enLMvzz7Zz75+Xmudtff+7efZ+3eenOzv/t2+P0UEZmZmANM6XQEzM+seDgpmZjbOQcHMzMY5KJiZ2TgHBTMzG+egYGZm46YX+eKSdgE/BI4AhyNiVNJZwOeBRcAu4F0R8WJ6/BrgPenx74uIv673+meffXYsWrSoqOqbmfWlhx9++IWImF3tuUKDQuoXI+KFzOObgC0RcbOkm9LHH5A0DCwDRoC5wGZJF0bEkVovvGjRIrZu3Vpk3c3M+o6k3bWe60T30ZXAnen9O4F3ZMrvjohXIuJpYCdwUQfqZ2Y2sIoOCgH8jaSHJa1Iy86NiOcA0ttz0vJ5wDOZc/emZWZm1iZFdx9dHBHPSjoHuF/Sd+scqyplk3JwpMFlBcB5553XmlqamRlQcEshIp5Nb/cDXyLpDnpe0hyA9HZ/evheYEHm9PnAs1Vec0NEjEbE6OzZVcdJzMxsigoLCpJOlXR65T7wS8DjwL3Adelh1wH3pPfvBZZJOlnS+cBi4KGi6mdmZpMV2VI4F/hbSd8h+XD/q4j4KnAzcImkp4BL0sdExHZgE7AD+CpwQ72ZR2Y2OMplWLQIpk1LbsvlTteof6mXU2ePjo6Gp6Sa9bdyGVasgEOHjpXNnAkbNsDy5Z2rVy+T9HBEjFZ7ziuazayrrV17fECA5PHatZ2pT79zUDCzrrZnT3PldmIcFMysq9Waee4Z6cVwUDCzrrZuXTKGkDVzZlJureegYGZdbfnyZFB54UKQklsPMhenHQnxzMxOyPLlDgLt4paCmZmNc1AwM7NxDgpmZjbOQcHMzMY5KJiZ2TgHBTMzG+egYGZm4xwUzMxsnIOCmZmNc1AwM7NxDgpmZjau8KAgaUjStyXdlz7+sKR9kralP5dnjl0jaaekJyVdWnTdzMzseO1IiHcj8ARwRqbsExHx0exBkoaBZcAIMBfYLOlC79NsZtY+hbYUJM0H3gb8WY7DrwTujohXIuJpYCdwUZH1MzOz4xXdfXQL8H7g6ITy90p6VNIdkmalZfOAZzLH7E3LzMysTQoLCpKuAPZHxMMTnloPXAAsAZ4DPlY5pcrLRJXXXSFpq6StBw4caGWVzcwGXpEthYuBt0vaBdwNvFXSxoh4PiKORMRR4FMc6yLaCyzInD8feHbii0bEhogYjYjR2bNnF1h9M7PBU1hQiIg1ETE/IhaRDCB/LSKukTQnc9hVwOPp/XuBZZJOlnQ+sBh4qKj6mZnZZJ3YjvMPJS0h6RraBawEiIjtkjYBO4DDwA2eeWRm1l5tWbwWEQ9GxBXp/Wsj4mci4mcj4u0R8VzmuHURcUFE/FREfKUddTOzfMplWLQIpk1LbsvlTtfIitCJloKZ9ZBSCW6/HY5m5hDu3g0rViT3ly/vTL2sGE5zYWY1jYzA+vXHB4SKQ4dg7dr218mK5aBgZlWVSrBjR/1j9uxpT12sfRwUzKyqDRsaH3PeecXXw9rLQcHMqjrSYO7fzJmwbl176mLt46BgZlUNDdV+7tRTk5aEB5n7j4OCmVVVmV000fAwHDzogNCvHBTMBlypBNOng5TclkpJ+a23wurVx1oMQ0PJ4+3bO1dXK54iJuWc6xmjo6OxdevWTlfDrCeNjcGWLdWfW706CQrWnyQ9HBGj1Z5zS8FsANULCJBv5pH1JwcFswFULyBA45lH1r8cFMwGyNhYMnbQSL2ZR9ZZtcaAWsW5j8wGRKMuo6xaM4+sc0qlJOVI1pEjx8paNQbkloJZn6t8s8wbEDzI3H2qBYSsVo4BuaVg1sfmzYNnJ+1fWN3SpbB5c7H1salp9KHfyjEgBwWzPjU2lj8g9PDM9IHQ6EO/lWNA7j4y61N5u4uWLi22HnbiGn3ot3IMqPCgIGlI0rcl3Zc+PkvS/ZKeSm9nZY5dI2mnpCclXVp03cz6UWWHtDzcZdQban3oS60fA2pHS+FG4InM45uALRGxGNiSPkbSMLAMGAEuA26V5IlxZk0oleDaa5Od0epZvTrpMnJA6A21Uo4cPdr6SQGFBgVJ84G3AX+WKb4SuDO9fyfwjkz53RHxSkQ8DewELiqyfmb9olyGs89OZqg0Gh+YO9ezi3rRrbfC4cPJv+/hw8X9GxbdUrgFeD+Q3czv3Ih4DiC9PSctnwc8kzlub1pmZnVUWgff+17jY5cuhX37iq+T9a7CgoKkK4D9EfFw3lOqlE36ziNphaStkrYeOHDghOpo1uvKZbjttsatg4UL3V1k+RQ5JfVi4O2SLgdeA5whaSPwvKQ5EfGcpDnA/vT4vcCCzPnzgUkT6iJiA7ABkiypBdbfrKuNjDTeQxmSwUjvkGZ5FdZSiIg1ETE/IhaRDCB/LSKuAe4FrksPuw64J71/L7BM0smSzgcWAw8VVT+zXtZMQFi1yhviWH6dWLx2M7BJ0nuAPcA7ASJiu6RNwA7gMHBDRDhXo9kEpVK+gPDjPw6f/KQDgjXHm+yY9YhyGVauhJdfrn9cpXXgGUZWS71NdpzmwqwHlEr5BpQB7rrLrQObOqe5MOtiIyPJN/886w8AhocdENqtsoJ82rTktlzudI1OjFsKZl0q72ByxfAwbN9eXH1ssnI5SUFx6FDyePfuYykpejU4u6Vg1qWaCQirVzsgdMLatccCQsWhQ0l5r3JQMOsypVK+LTMh6bLwpjids2dPc+W9wEHBrIs02mGropId88gRB4ROOu+85sp7gYOCWReobJmZJyBMn57MMHIw6Lx162DmzOPLZs7s7RXkHmg267C8rYOKV18tri7WnMpg8tq1SZfReeclAaFXB5nBi9fMOm5oKMmLn1cP/5e1LlFv8Zq7j8w6aN48B4Ru0m9rDqbCQcGsA8bGksHiZyflAT5eZYetCAeEolXWHOzenVzrypqDQQsMDgpmbTZvHmzZ0vi41auL3WHLjtePaw6mwkHBrE0qKSsatQ4ATj3VwaBolX+Pyk+tfa17ec3BVDgomLWB1NwK5dtvL64ug65cTqb15v336OU1B1PhoGBWsFmzmjt+7tzentLYzSrjBkdy7tTS62sOpsJBwaxAIyPw0kv5jx8ehn37iqvPoKs2bjDRwoVJy27hQtiwYfACtBevmRUkb/4iSFoHDgatVSolH+pHjiSzuFasyDc+sGtX4VXraoW1FCS9RtJDkr4jabuk/5qWf1jSPknb0p/LM+eskbRT0pOSLi2qbmZFaiahHSSzjBwQWquySrzSTXTkSPJ4YkqKiYaHi69btyuypfAK8NaIOChpBvC3kr6SPveJiPho9mBJw8AyYASYC2yWdKH3abZeMjaWb7pphdcetF65XDttyI9+lASGal1I3o8iUVhLIRIH04cz0p96/wWuBO6OiFci4mlgJ3BRUfUza7VyOX9AOPNMB4QiVAaSazl6NOlSyo4bbNyY/Fs4ICQKHWiWNCRpG7AfuD8ivpU+9V5Jj0q6Q1JlbsY84JnM6XvTMrOecM01+Y4bHoYXXyy2LoOikl1WSm5Xrqw/kDw0lAwc79qVBIhduwZvILmRQoNCRByJiCXAfOAiSa8D1gMXAEuA54CPpYdX64Wd9F1K0gpJWyVtPXDgQEE1N8uv2TEEfyNtjZNOmjxu8PLL9c+p14qwRFumpEbES8CDwGUR8XwaLI4Cn+JYF9FeYEHmtPnApLWfEbEhIkYjYnT27NkF19ysvrGx/GmvTznFXUatUAnCzaYQ9w51+RQ5+2i2pDPT+6cAY8B3Jc3JHHYV8Hh6/15gmaSTJZ0PLAYeKqp+Zidi5szkgynPGMLSpUkwaDQ/3hprdu8JSP6tNm50QMiryNlHc4A7JQ2RBJ9NEXGfpLskLSHpGtoFrASIiO2SNgE7gMPADZ55ZN2oma4igM2bi6nHINqwofEx06bBggX9s+lNuxUWFCLiUeANVcqvrXPOOmDAFpVbrxgZaS5/ESRdRtY6edJTrFzpVsGJcJoLsxxmzpxaQHCX0dRMnFVUKiXlQ0P1z5sxwwHhRDkomDUwNpYsesrLYwgnptZq5FKp/uyhM8+Ef/7n9tSxnzkomNXRzII0SAY0PYYwNZWtMGsNJG/YkLQCVq8+1mLI7kzntR+tocgxR07SbOA/AYvIjENExH8orGY5jI6OxtatWztZBetjzY4heLrp1FVWIjdqXfkat4akhyNitNpzeQea7wG+AWwGPCPI+t6sWflTXk+blj8/v1WXJ6V1o/EEa428QWFmRHyg0JqYdYmxsXwBwQPJrZMnpbVXI7dH3jGF+7Iprs2KVulfnjYtuS2X2/O+IyP5F6Q5ILROvS0vK+MGnlXUHnmDwo0kgeH/Sfph+vODIitmg6vSv7x7d9KHvHt38rjowJB32qkHk6em1jRTSBaYTdzroLIS+fBhB4R2yhUUIuL0iJgWEa9J758eEWcUXTkbTNX6lw8dSsqLMGtW8kGVZ9rp8LBXxzarXIbTTqs9zRSSazoxpfUgboXZDXLNPgKQ9HbgzenDByPivsJqlZNnH/WnadOqzzKRknTHrdRMyoozz/S0x2aVSnDbbbVnDQ0NJS0Ba696s49ytRQk3UzShbQj/bkxLTNruVr9y/X6nZs1b15zAWHpUgeEvLLdROvX159G6llb3SfvmMLlwCURcUdE3AFclpaZtVyt/uV1LcqKNXMmPDspKXttw8MeQ8hr4mrkRjzNtPs0s6L5zMz9H2t1RcwqiuxfLpWaS1lxyineFKcZebKYZnmaaffJu6L5auBm4AGSHdLeDKyJiLuLrV59HlOwZjXbZeQWQnPyXt9p05zNtJNOeEVzRHxO0oPAvyQJCh+IiP/buiqaFavZPRCcTmFqhobqdx1JsGqVg0E3q9t9JOmn09s3kmyasxd4Bpiblpl1PQeE9qnXHbRwIdx1lwNCt2vUUvgtYAXwsSrPBfDWltfIrEXmzcs/oOyUFa1R+cDfsCFpMQwNJYHCgaB35F6n0PQLS68Bvg6cTBJ8/iIiPiTpLODzJBlXdwHviogX03PWAO8hSbr3voj463rv4TEFq6WZgABuHdhgacU6hXdKOj29/3uSvihp0labE7wCvDUiXg8sAS6T9K+Bm4AtEbEY2JI+RtIwsAwYIZnyemu6v7NZ05oJCHPnFlcPs16Td0rqf4mIH0p6E3ApcCdwW70TInEwfTgj/QngyvR80tt3pPevBO6OiFci4mlgJ3BR7t/EjCShXTNjCHPnwr59xdXHrNfkDQqV+QRvA9ZHxD3ASY1OkjQkaRuwH7g/Ir4FnBsRzwGkt+ekh88jGcSu2JuWmeUiNb8pjgOC2fHyBoV9km4H3gV8WdLJec6NiCMRsQSYD1wk6XV1Dq/2/W5ST6+kFZK2Stp64MCBnNW3dmtn6mupudbBjBkeQ5jopJOOXUcpeWyDKW9QeBfw18BlEfEScBbwu3nfJD3nQZKxguclzQFIb/enh+0FFmROmw9M6hmOiA0RMRoRo7Nnz85bBWujdqa+nsp0U2/ufryTToJXXz2+7NVXHRgGVd6gMAf4q4h4StJbgHcCD9U7QdJsSWem908BxoDvAvcC16WHXUey1Sdp+TJJJ0s6H1jc6D2sO7Ur9XWzAWHGjNa+fy/LtuQmBoSKWuXW3/IGhS8ARyS9Fvg0cD7w2QbnzAEekPQo8PckYwr3kaTLuETSU8Al6WMiYjuwiSQL61eBGyLCORR7UK2tFfNsuZhHsxlOIQkIbiEkuZ+mTYNrrjnWkjPLyrtH89GIOCzp3wG3RMQfS/p2vRMi4lFg0rTViPgesLTGOeuAFuXCtHYql5OWwJ49tTeyb0Xq62bXH4A/+CoqGUzN6skbFF5Nk+L9GvDLaZkb4wYcG0OodBlVCwitSn3tgNC8sbF8+05P5O62wZS3++jXgZ8H1kXE02mf/8biqmW9pNoYAiQpDlqV+rrZGUYRDghwYgHB3W2DqbA0F+3gNBedVSody3FTTau2z3RCu6nLe+1mzvSeyINkymkuJG1Kbx+T9Gjm57F0ANkGVJ4dtloxhtDszlwOCMdvh5nHaac5INgxjcYUbkxvryi6ItY7yuXGA5atGEM46aT8LY1BDwZT6SZyBlOrpm5QyKSj2A0g6YxG51h/K5XgtrpZr5IxhHXrTnwMIa9BHxCdSkDwrnJWS64PeEkrgY8AP+JY6okAfrKgelkXKpeTgFDvW/nQEOzaNfX3GBpqbhzCA6IOCNZaeb/1/w4wEhEvFFkZ625r1zbupjmRjdg9oJxfo0H+iYaG4PDhYutk/SFvUPhHwPtSDbhGK5JXr556/3QzAaHW4rh+NzLSXBbYrBMJ1jZY8gaFNcDfSfoWyeY5AETE+wqplXWNPCuVpWTv3amMIThdRT5TWcldsXSpB5Mtv7xB4Xbga8BjQAtmnlsvyLNSWYJVq9oTEGAwA0K5PLWA0IoBfxs8eYPC4Yj4rUJrYl2n3krlo0eTdQhT/dAplZo7fhC7jJrtLvK4gbVC3qDwgKQVwF9yfPfR9wuplXWFWmMIR4+e2EplDyg3NpXxA48bWCvkDQq/mt6uyZR5SmqfO++8JL1ytfKpckCobqo5iiqGhz1uYK2RKyFeRJxf5ccBoc+tW5esTM6a6krlZhPanXKKA0IeQ0PJrK/t21tbJxtcjXIfvT9z/50TnvuDoipl3WH58mQu/MKFJ5btdCqtg2pjGf2oXG4+ICxcCBs3Jtfp8GG3EKy16mZJlfRIRLxx4v1qjzvBWVJ7g7uMJiuV4Pbbmx+bGR52q8BO3JSzpAKqcb/a44lvukDSA5KekLRd0o1p+Ycl7ZO0Lf25PHPOGkk7JT0p6dIGdbMu12yXEQxOQFi/3gHBulOjgeaocb/a44kOA78dEY9IOh14WNL96XOfiIiPZg+WNAwsA0aAucBmSRd6n+be5GBwPCets17RKCi8XtIPSFoFp6T3SR+/pt6JaYbVSpbVH0p6AphX55Qrgbsj4hXgaUk7gYuAbzb+NaybOCAczwHBeknd7qOIGIqIMyLi9IiYnt6vPM6dsFjSIuANwLfSovemm/XcIWlWWjYPeCZz2l7qBxGbgnIZFi1KFoMtWpQ8bhVvmVldMwFh5sxkENkBwTol7x7NUybpNOALwG9ExA+A9cAFwBKSlsTHKodWOX3SR4akFZK2Stp64MCBgmrdnyppK3bvTj6Md+9OHrciMEwlZYUd79RTvQOadV6hQUHSDJKAUI6ILwJExPMRcSQijgKfIukigqRlsCBz+nxgUsaXiNgQEaMRMTp79uwiq993qqWtOHQoKZ+qqQwmw2C0EPKqrDU4eNABwTqvsKAgScCngSci4uOZ8jmZw64CHk/v3wssk3SypPOBxcBDRdVvENVKW9EoJXYtUw0GgxYQli6t/dzq1V5rYN2lyK01LwauBR6TtC0t+yBwtaQlJF1Du4CVABGxXdImYAfJzKUbPPOotYpIW9GMQQsGFZs3Vx9sPpH9J8yKUnfxWrfz4rXmTEyFDcnAZrP92N4D4fidz4aGkuvqD3jrFSeyeM36SCvSVkxlumk/BoT164+l8j5yJHncbDpws27kloLl5vUHienTq+/t4P0MrFfUaykUOaZgA6pfg0FFrc1+Bm0TIOtP7j7qI6VS8i1WSm5b1Z0x1Wmnva5UOva7V37GxpIWQTW1ys16iVsKfWLi7JZKPzec2ADooHYZVcYNJtqyBebOrb5nsnc+s37glkIfqJeTf8OGqb3moKesqHfdnn02mU5aaRlUFp959pH1AweFPrBqVe3nptLPPaitg2xeqEbX7dZbk0Flb3Rj/cbdRz2uVErSI9TSTD/3II4bQHINb7utf4Kb2YlwUOhxjbqH8vZzTzUg9PoHaa2xg3rqpa0w63UOCj2uXjfH0qXFdWv0ejCoaHbMxfscWL9zUOhxQ0PVA4OU78Nr0DOcNho7WLgQdu1qS1XMuoIHmntItQ1yanUP1Rt8rpjKgHI/BQSoP+YycyasW9e+uph1AweFHlFrg5yLL57a9MhmAsKMGf0XDCpqBdXTTvOGNzaYnPuoRyxaVD3tdbPdG4M63bQeZzy1QVMv95GDQo+YNq36B7QER4/mew2nvDYzcOrsvlBrI5yiNshxQDAbTA4KPWLdumTgMyvvQOisWc2nrHBAMBtMRe7RvEDSA5KekLRd0o1p+VmS7pf0VHo7K3POGkk7JT0p6dKi6taLprpBjgQvvZT/fXq4N9HMWqCwMQVJc4A5EfGIpNOBh4F3ANcD34+ImyXdBMyKiA9IGgY+B1wEzAU2AxfW26d5kMYUmjXo6w/MrLaOjClExHMR8Uh6/4fAE8A84ErgzvSwO0kCBWn53RHxSkQ8DewkCRDWJK8/MLOpasuYgqRFwBuAbwHnRsRzkAQO4Jz0sHnAM5nT9qZlA6EVG+QM6mY4ZtY6hQcFSacBXwB+IyJ+UO/QKmWTvr9KWiFpq6StBw4caFU1O2pk5MQ3gu/nhHbVVnKbWTEKDQqSZpAEhHJEfDEtfj4db6iMO+xPy/cCCzKnzwcm7W8VERsiYjQiRmfPnl1c5dugVEo+6HbsqP78VDfIyaNXuoxqreR2YDArRpGzjwR8GngiIj6eeepe4Lr0/nXAPZnyZZJOlnQ+sBh4qKj6dVolZXO9D+a8G+T08yrltWvh0KHjyw4dSsrNrPWKzJJ6MXAt8JikbWnZB4GbgU2S3gPsAd4JEBHbJW0CdgCHgRvqzTzqdXlaAY02yOnnYFCxZ09z5WZ2YgoLChHxt1QfJwCouk1JRKwD+jov5dhY7f2UJ6q3Qc4gBARIVmxXy/lU1Epus0HnFc1tNDKSPyAMD1dPytbsDKNeGTuo5URWcptZ8xwU2qRcrj2gPNHq1bB9++TyQZxuOtWV3GY2Nd55rQ3y7ANcRMrmXm4hZC1f7iBg1i4OCgXLuzH84cO1n3PKCjNrFweFguWZZbS06rB7YlAGlM2sO3hMoWCN1hoMD8PmzZPLmx1QPuUUBwQzO3EOCgWrt9Zg48bWDChHTF7gZWY2FQ4KBau11mD16uqDp82mb5gxo/k6mZnV4qBQsFtvTQJApcUwNJQ8rjXL6Jpr8r92N22Z6aR1Zv2hsE122qGfNtk56SR49dX8x3fTP1slaV22C2vmTK8nMOtWHdlkx/KTeisgTNz7YdUqJ60z6xcOCh00MtJ7KSsq6y6yez8cPFj9WCetM+s9XqfQIUNDcPRo/uPrrWVol3I530K8CietM+s9bim02bx5SeugmYBw5pnV1zK0U2XcIC8nrTPrTQ4KbTRvHjw7aS+5+pYuhRdfLKY+zai22U1WJVmdk9aZ9TZ3H7VRswGh0+MHWY3GB1atam0yPzPrDLcU2qRUyn/s3LndFRCg/vhAvXUXZtZbityj+Q5J+yU9nin7sKR9kralP5dnnlsjaaekJyVdWlS92q0yfTPPAO20aUkw2Lev+Ho1q9ZmNxs3OiCY9ZMiWwqfAS6rUv6JiFiS/nwZQNIwsAwYSc+5VVKDHYq738Tpm/XMnZvvuE7xZjdmg6HIPZq/LmlRzsOvBO6OiFeApyXtBC4CvllQ9doiT9ps6L6uolq82Y1Z/+vEmMJ7JT2adi/NSsvmAc9kjtmblvWksbHk23Seb/6rVxdfHzOzvNodFNYDFwBLgOeAj6Xl1db1Vv3+LGmFpK2Sth44cKCYWp6AWbNgy5bGxzVKjGdm1gltDQoR8XxEHImIo8CnSLqIIGkZLMgcOh+oOoEzIjZExGhEjM6ePbvYCjehVEpaBy+91PjY1auT7TcdEMys27Q1KEiak3l4FVCZmXQvsEzSyZLOBxYDD7Wzbici7z7Mbh2YWbcrbKBZ0ueAtwBnS9oLfAh4i6QlJF1Du4CVABGxXdImYAdwGLghIrp4Lk5iZAR27Mh//OHDxdXFzKwVipx9dHWV4k/XOX4d0DPZcppNWdENCe3MzBrxiuYpKJebCwjdkNDOzCwPB4UpaGbzmG5JaGdmloeDQhMq+xDv3l3/uMqAcoRbCGbWW5wlNadSCW67rfHq4+Fh2L69PXUyM2s1txRyKJfzBYS5cx0QzKy3OSg0UCrBNdfUDwgLFybZQrsxu6mZWTPcfVTH2FjjlBULF8KuXW2pjplZ4dxSqKFcbhwQJO9DbGb9xUGhhkbTTqVkC0qnkjazfuLuoxoa7Ul8110OCGbWf9xSqKHRnsQOCGbWjxwUaqi2JzEkK5Sd5dTM+pWDQg3V9iTeuNErlM2svw1sUCiVYPr05AN/+vTk8UTLlyfTTY8eTW7dZWRm/W4gB5onrj84cuTYJjnuGjKzQTZwLYV66w82bGhvXczMus3ABYV66w+OdP1eb2ZmxSosKEi6Q9J+SY9nys6SdL+kp9LbWZnn1kjaKelJSZcWVa966w+Ghop6VzOz3lBkS+EzwGUTym4CtkTEYmBL+hhJw8AyYCQ951ZJhXxE11t/sGJFEe9oZtY7CgsKEfF14PsTiq8E7kzv3wm8I1N+d0S8EhFPAzuBi4qol9cfmJnV1u4xhXMj4jmA9PactHwe8EzmuL1pWct5/YGZWW3dMiVVVcqq7mAgaQWwAuC8en1BdSxf7jUHZmbVtLul8LykOQDp7f60fC+wIHPcfODZai8QERsiYjQiRmfPnl1oZc3MBk27g8K9wHXp/euAezLlyySdLOl8YDHwUJvrZmY28ArrPpL0OeAtwNmS9gIfAm4GNkl6D7AHeCdARGyXtAnYARwGbogIrxowM2uzwoJCRFxd46mlNY5fB3gfMzOzDhq4Fc1mZlabIqpO8ukJkg4Au1v4kmcDL7Tw9fqNr099vj71+frU187rszAiqs7U6emg0GqStkbEaKfr0a18ferz9anP11AR/Q0AAAdoSURBVKe+brk+7j4yM7NxDgpmZjbOQeF43lGhPl+f+nx96vP1qa8rro/HFMzMbJxbCmZmNs5BISVpl6THJG2TtLXT9em0ZjdJGjQ1rs+HJe1L/4a2Sbq8k3XsJEkLJD0g6QlJ2yXdmJb7b4i616fjf0PuPkpJ2gWMRoTnUQOS3gwcBP48Il6Xlv0h8P2IuFnSTcCsiPhAJ+vZKTWuz4eBgxHx0U7WrRukCS/nRMQjkk4HHibZP+V6/DdU7/q8iw7/DbmlYFU1uUnSwKlxfSwVEc9FxCPp/R8CT5DskeK/Iepen45zUDgmgL+R9HC6Z4NNVmuTJDvmvZIeTbuXBrJrZCJJi4A3AN/Cf0OTTLg+0OG/IQeFYy6OiDcC/xa4Ie0eMGvGeuACYAnwHPCxzlan8ySdBnwB+I2I+EGn69Ntqlyfjv8NOSikIuLZ9HY/8CUK2iO6x9XaJMmAiHg+Io5ExFHgUwz435CkGSQfeOWI+GJa7L+hVLXr0w1/Qw4KgKRT08EeJJ0K/BLweP2zBlKtTZKM8Q+5iqsY4L8hSQI+DTwRER/PPOW/IWpfn274G/LsI0DST5K0DiDZY+Kz6f4OAyu7SRLwPMkmSf8L2AScR7pJUkQM5GBrjevzFpJmfwC7gJWV/vNBI+lNwDeAx4CjafEHSfrNB/5vqM71uZoO/w05KJiZ2Th3H5mZ2TgHBTMzG+egYGZm4xwUzMxsnIOCmZmNc1AwM7NxDgrWUpKOZNL+bpO0SNL1kv5kwnEPShpN72fTlm+T9Edp+Wck/UqV97hQ0pcl7UxTD2+SdG763JskPSTpu+nPisx5H5Z0SNI5mbKDmftr0zTGj6b1+FeZ+p2dOe4tku5L718vKSQtzTx/VVr2K5nf9UlJ35H0vyX9lKQvpe+xU9I/ZX73X5hwbX5M0p9L+sf0588l/Vj63KL0ff5z5r3/RNL1Df6Nfie9No+ndfq1tPwkSbek7/OUpHskzc+cF5LuyjyeLunAhGtxIP09tkv6C0kz69XFuo+DgrXajyJiSeZnV87zfjFzzvtqHSTpNcBfAesj4rUR8S9I8sXMlvQTwGeBVRHx08CbgJWS3pZ5iReA367yuj8PXAG8MSJ+FhgDnslZ98dIFh1VLAO+M+GY5RHxepLMoP8jIq6KiCXAfwS+kfnd/27CeZ8G/k9EXBARFwBPA3+WeX4/cKOkk/JUVNIq4BLgojTl95sBpU//AXA6cGFELCZZrPjFdPUtwMvA6ySdkj6+BNg34S0+n/4eI8A/A+/OUy/rHg4K1mt+FfhmRPxlpSAiHoiIx4EbgM9kUhK/ALwfuClz/h3AuyWdNeF15wAvRMQrlXMr+bBy+AZwkaQZaYKz1wLbahz79fT5hiS9Fvg54PczxR8BRiVdkD4+AGzhWOqIRj4IlCrJ6SLinyLizvQb/a8DvxkRR9Ln/ifwCvDWzPlfASpB9mrgczXqPh04FXgxZ72sSzgoWKudkukK+VLjw8c9kDnvN+sc9zqSDUmqGany3Na0vOIgSWC4ccJxfwMskPQPkm6V9G+aqHsAm4FLSfYLuLfOsb9M0rLIYxjYVvmQBkjvb+P43+lm4LclDdV7MSX5vU6PiH+s8vRrgT1VMplOvH53A8vSFtvPcizdc8W7JW0jaUGcBfwl1lMcFKzVst1HV6VltXKpZMuz3UefmOJ7q8Z7TSz7I+A6SWeMHxBxkORb+QqSb9+fz/TN53nNu0m6jZZR/dtzOf2wvBj4nfq/xrhav89x5RHxNPAQSStqKq/XzHs9CiwiaSV8ucrxn0+7xX6CJPj9boM6WZdxULB2+B4wcbOQs0j695u1neTDu9ZzoxPKfg7YkS2IiJdIxh5KE8qPRMSDEfEh4L3Av0+fmlj/SXWPiIdIWjFnR8Q/VKnb8jTgvSMi8o5VbAfeIGn8/2l6//UkO3Vl/QHwAer8n05bAS8rSQA50U5gYdqayHojE64fSUvoo9ToOkrfK0haCd6XpMc4KFg7/D1wcToQTDqz5mTyD+RmfRb4hezgsaTLJP0M8KfA9ZKWpOU/Dvx34A+rvM7HgZUkWXFJZwQtzjy/BNid3n8QuDY9bgi4BnigymuuIemzb4mI2Al8G/i9TPHvAY+kz2WP/S7Jh/cVDV72vwF/WmklSTpD0oqIeJlkEPzjlW6odFbSTOBrE17jDuAjEdGoG+xNQLWuKuti0ztdAet/EfG8pBuBL6ffdA8CV6cbiVQ8IKnSd/5oRPxaev92Sbek95+JiJ+XdAVwS1r+KvAocGP6PtcAn0q/8Qq4JTsonanTC+mYR2X84jTgjyWdCRwm+eZcmc76+8B6Sd9JX/OrwMYqr/mVpi9OY+9J67Uzfe9vpmXVrCMJIvWsJ/ld/17SqyTXr7K71xqSFsA/SDoKfBe4KiakUo6IvcAna7z+u5WkhZ4G7AWub1Af6zJOnW1mZuPcfWRmZuPcfWTWhyT9KclMp6xPpmsPzGpy95GZmY1z95GZmY1zUDAzs3EOCmZmNs5BwczMxjkomJnZuP8PgjC7itdQiLQAAAAASUVORK5CYII=\n",
      "text/plain": [
       "<Figure size 432x288 with 1 Axes>"
      ]
     },
     "metadata": {
      "needs_background": "light"
     },
     "output_type": "display_data"
    }
   ],
   "source": [
    "plt.scatter(cdf.FUELCONSUMPTION_COMB, cdf.CO2EMISSIONS,  color='blue')\n",
    "plt.xlabel(\"FUELCONSUMPTION_COMB\")\n",
    "plt.ylabel(\"Emission\")\n",
    "plt.show()"
   ]
  },
  {
   "cell_type": "code",
   "execution_count": 9,
   "metadata": {
    "button": false,
    "deletable": true,
    "new_sheet": false,
    "run_control": {
     "read_only": false
    },
    "scrolled": true
   },
   "outputs": [
    {
     "data": {
      "image/png": "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\n",
      "text/plain": [
       "<Figure size 432x288 with 1 Axes>"
      ]
     },
     "metadata": {
      "needs_background": "light"
     },
     "output_type": "display_data"
    }
   ],
   "source": [
    "plt.scatter(cdf.ENGINESIZE, cdf.CO2EMISSIONS,  color='blue')\n",
    "plt.xlabel(\"Engine size\")\n",
    "plt.ylabel(\"Emission\")\n",
    "plt.show()"
   ]
  },
  {
   "cell_type": "markdown",
   "metadata": {},
   "source": [
    "## Practice\n",
    "plot __CYLINDER__ vs the Emission, to see how linear is their relation:"
   ]
  },
  {
   "cell_type": "code",
   "execution_count": 12,
   "metadata": {
    "button": false,
    "deletable": true,
    "new_sheet": false,
    "run_control": {
     "read_only": false
    }
   },
   "outputs": [
    {
     "data": {
      "image/png": "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\n",
      "text/plain": [
       "<Figure size 432x288 with 1 Axes>"
      ]
     },
     "metadata": {
      "needs_background": "light"
     },
     "output_type": "display_data"
    }
   ],
   "source": [
    "plt.scatter(cdf.CYLINDERS, cdf.CO2EMISSIONS, color='g')\n",
    "plt.xlabel(\"Tamaño motor\")\n",
    "plt.ylabel(\"Cilindros\")\n",
    "plt.show()"
   ]
  },
  {
   "cell_type": "markdown",
   "metadata": {},
   "source": [
    "Double-click __here__ for the solution.\n",
    "\n",
    "<!-- Your answer is below:\n",
    "    \n",
    "plt.scatter(cdf.CYLINDERS, cdf.CO2EMISSIONS, color='blue')\n",
    "plt.xlabel(\"Cylinders\")\n",
    "plt.ylabel(\"Emission\")\n",
    "plt.show()\n",
    "\n",
    "-->"
   ]
  },
  {
   "cell_type": "markdown",
   "metadata": {
    "button": false,
    "deletable": true,
    "new_sheet": false,
    "run_control": {
     "read_only": false
    }
   },
   "source": [
    "#### Creating train and test dataset\n",
    "Train/Test Split involves splitting the dataset into training and testing sets respectively, which are mutually exclusive. After which, you train with the training set and test with the testing set. \n",
    "This will provide a more accurate evaluation on out-of-sample accuracy because the testing dataset is not part of the dataset that have been used to train the data. It is more realistic for real world problems.\n",
    "\n",
    "This means that we know the outcome of each data point in this dataset, making it great to test with! And since this data has not been used to train the model, the model has no knowledge of the outcome of these data points. So, in essence, it is truly an out-of-sample testing.\n",
    "\n",
    "Lets split our dataset into train and test sets, 80% of the entire data for training, and the 20% for testing. We create a mask to select random rows using __np.random.rand()__ function: "
   ]
  },
  {
   "cell_type": "code",
   "execution_count": 13,
   "metadata": {
    "button": false,
    "deletable": true,
    "new_sheet": false,
    "run_control": {
     "read_only": false
    }
   },
   "outputs": [],
   "source": [
    "msk = np.random.rand(len(df)) < 0.8\n",
    "train = cdf[msk]\n",
    "test = cdf[~msk]"
   ]
  },
  {
   "cell_type": "markdown",
   "metadata": {
    "button": false,
    "deletable": true,
    "new_sheet": false,
    "run_control": {
     "read_only": false
    }
   },
   "source": [
    "<h2 id=\"simple_regression\">Simple Regression Model</h2>\n",
    "Linear Regression fits a linear model with coefficients $\\theta = (\\theta_1, ..., \\theta_n)$ to minimize the 'residual sum of squares' between the independent x in the dataset, and the dependent y by the linear approximation. "
   ]
  },
  {
   "cell_type": "markdown",
   "metadata": {
    "button": false,
    "deletable": true,
    "new_sheet": false,
    "run_control": {
     "read_only": false
    }
   },
   "source": [
    "#### Train data distribution"
   ]
  },
  {
   "cell_type": "code",
   "execution_count": 14,
   "metadata": {
    "button": false,
    "deletable": true,
    "new_sheet": false,
    "run_control": {
     "read_only": false
    }
   },
   "outputs": [
    {
     "data": {
      "image/png": "iVBORw0KGgoAAAANSUhEUgAAAYUAAAEHCAYAAABBW1qbAAAABHNCSVQICAgIfAhkiAAAAAlwSFlzAAALEgAACxIB0t1+/AAAADh0RVh0U29mdHdhcmUAbWF0cGxvdGxpYiB2ZXJzaW9uMy4xLjEsIGh0dHA6Ly9tYXRwbG90bGliLm9yZy8QZhcZAAAgAElEQVR4nO3df7xcdX3n8dcnk5uQm4DAJbLhR25YG2wTtwVJqS59tNSA0OhDtFvZdCPG6qOxCbbYrg+XNLtV+1i6rNVWuo9NNGo0NXelqdqVpSxIItZ120IDApIgS1wIRLIQQNQATSB+9o9z5t4zc8/PmXPmzMx9Px+P87gz3znnzPfOTc5nzvfH52vujoiICMCsuisgIiL9Q0FBREQmKSiIiMgkBQUREZmkoCAiIpMUFEREZNLsKk9uZo8CPwaOAy+7+wozOxX4S2AJ8Chwpbv/INx/I/CecP/fdffb0s5/2mmn+ZIlS6qqvojIULr77rufdveFca9VGhRCv+LuT0eeXwvsdvfrzeza8Pm/M7NlwGpgOXAGsMvMznX340knXrJkCXv27Kmy7iIiQ8fMDiS9Vkfz0RXA9vDxduCtkfIb3f2ouz8C7AcurKF+IiIzVtVBwYGvmdndZrYuLDvd3Q8BhD9fGZafCTweOfZgWCYiIj1SdfPRRe7+hJm9ErjdzL6bsq/FlE3LwREGl3UAixcvLqeWIiICVHyn4O5PhD+fAv6aoDnoSTNbBBD+fCrc/SBwduTws4AnYs651d1XuPuKhQtj+0lERKRDlQUFM5tvZic2HwNvBB4AbgLWhrutBb4aPr4JWG1mc83sHGApcFdV9RMRkemqvFM4HfiWmd1HcHH/G3e/FbgeuNTMHgYuDZ/j7nuBncA+4Fbg6rSRRyIys0xMwJIlMGtW8HNiou4aDScb5NTZK1ascA1JFRl+ExOwbh288MJU2egobN0Ka9bUV69BZWZ3u/uKuNc0o1lE+t6mTa0BAYLnmzbVU59hpqAgIn3vsceKlUvnFBREpO8ljT7XqPTyKSiISN+77rqgDyFqdDQol3IpKIhI31uzJuhUHh8Hs+CnOpmr0YuEeCIiXVuzRkGgF3SnICIikxQURERkkoKCiIhMUlAQEZFJCgoiIjJJQUFERCYpKIiIyCQFBRERmaSgICIikxQURERkkoKCiIhMqjwomFnDzL5tZjeHzz9sZt83s3vDbVVk341mtt/MHjKzy6qum4iItOpFQrxrgAeBkyJlf+buH4vuZGbLgNXAcuAMYJeZnat1mkVEeqfSOwUzOwt4E/CZHLtfAdzo7kfd/RFgP3BhlfUTEZFWVTcffQL4IPCTtvL3mdn9ZrbNzE4Jy84EHo/sczAsExGRHqksKJjZm4Gn3P3utpe2AK8CzgMOAR9vHhJzGo857zoz22Nmew4fPlxmlUVEZrwq7xQuAt5iZo8CNwJvMLMd7v6kux93958An2aqieggcHbk+LOAJ9pP6u5b3X2Fu69YuHBhhdUXEZl5KgsK7r7R3c9y9yUEHchfd/d3mNmiyG5vAx4IH98ErDazuWZ2DrAUuKuq+omIyHR1LMf5UTM7j6Bp6FHgvQDuvtfMdgL7gJeBqzXySESkt8x9WrP9wFixYoXv2bOn7mqIiAwUM7vb3VfEvaYZzSKSacMGmD0bzIKfGzbUXSOpSh3NRyIyQDZsgC1bpp4fPz71fPPmeuok1dGdgoik+tSnipXLYFNQEJFUP2mfeppRLoNNQUFERCYpKIhIqvnzi5XLYFNQEJFUn/oUNBqtZY2G+hSGlYKCyICbmIAlS2DWrODnxES551+zBrZvh/HxYEjq+HjwfM2a7s5bdb2lMwoKIhWrcoz/xASsWwcHDoB78HPdumoCw6OPBp3Ljz5aTkDoRb2lOM1oFqlQ+xj/pvXryxnjv2RJcEFtNz4eXLz71aDWe1ikzWhWUBCp0OzZwWSvdo0GvPxy9+efNSv4pt3OrL+HjA5qvYeF0lyI1CQuIKSVF7V4cbHyTmU1gRXtH+hVvaU4BQWRCs1K+B+WVF7UddfB6Ghr2ehoUF6WZhNYM5A101w0A0Mn/QO9qLd0RkFBpELz5hUrj5P2LXzNGti6tXVk0Nat3XcER33yk+nlmzbBCy+0vvbCC0F5kl7UWzrk7gO7XXDBBS7SjfXr3RsNdwh+rl9f7vnNgnO3b2b5jt+xw310tPXY0dGgPOu48fHgfcbHs/dPE1f/5lbG7yi9B+zxhOuq7hRkxspqFilDt23nnXwL7/VwT/UPDBcFBZmxtm4tVt6JbtvOH3usWDl0Fki6of6B4VJ5UDCzhpl928xuDp+fama3m9nD4c9TIvtuNLP9ZvaQmV1Wdd1kZqt6ZBB033beybfwTgJJmvXr08vXrIG1a6dSYTQawXP1DwymXtwpXAM8GHl+LbDb3ZcCu8PnmNkyYDWwHLgc2GxmbRlXRMrTns8nq7xT3cwGvu46GBlpLRsZSf8WXnZzzubNQQCIXvSjk+8mJoK0F9FmuO3bNTt5UFUaFMzsLOBNwGcixVcA28PH24G3RspvdPej7v4IsB+4sMr6ycy2bl2x8rqYpT9vF9ecMzICR450nmdo8+Zgsp178DM6G7vXzVVSrarvFD4BfBCIzlE83d0PAYQ/XxmWnwk8HtnvYFgmUomsb8D9YNMmOHastezYsdYLbvuQVWhtshobC34+80w1Hc9lN1dJvSoLCmb2ZuApd7877yExZdMmwpvZOjPbY2Z7Dh8+3FUdRdK+AfeDrAtu0kgjmGqyWrBgemAp85u8Rh8NlyrvFC4C3mJmjwI3Am8wsx3Ak2a2CCD8+VS4/0Hg7MjxZwFPtJ/U3be6+wp3X7Fw4cIKqy9Sv6wLbp6mm6q/yVc1+mj58uAOp7ktX97d+SSfyoKCu29097PcfQlBB/LX3f0dwE3A2nC3tcBXw8c3AavNbK6ZnQMsBe6qqn4igyDrgpvngl/1N/kqZicvXw779rWW7dunwNALdcxTuB641MweBi4Nn+Pue4GdwD7gVuBqdy9xcKDI4Mm64Oa54PdiHkHZ6y20B4Ss8pmk8sWJkqY6D8KmNBfSD8pMKdHJe+dJg1FnHTuRlVpjpuo07Uk7lOZCpBp1ryCWt+mm/Zs8aCnMQdSL4b9aZEekC4O4glgzkEUvLqOj3fUDtPcBLFsGe/d2Xse4PoUyzjvoylqcSIvsiFSkjjH6o6Oto3La+wviRNuh164t/m0zbZGdKjqF9+4NAkDUTA8I0JvhvwoKIl3o9Rj90VF48cXWshdfTA8M7U1cSbmd4u54IDubbFWdwnv3tvYmzPSAAL0ZNKCgINKFXmcIbQ8IWeUQ3w4dJynnUy+yyUo+vVicaHZ5pxKZeZr/GTdtCpqMFi8OAkI/ZQjN25RVNGtsmdlkJb81a6r996U7BZEhl7cpa3w8vrxX2WSlPygoiHSh10NSO1nzOa6JK86qVfHlg5JNVsqhoCCSImv2aK/TRr/wwvQAMG9eep9Bezt00jf8W26JL8/KJqs7ieGioCCSIM9dQB1DUl94oXVUzqc/nT0RLTp5LWk8e1qd07LJlnUnkTbsVXooaarzIGxKcyFVGh+PT7MwPj61z9hY/D5jY9XVK5qyYmzMfWSkWNqDPL9XUevXuzcawXkajeB50ePj6lT0PJIPKWkuNKNZJEGe2aOnnRYsXtNubAyefrr8OsXNRo4zNhasoxA3IqqKGc3dmj07fjRToxHcmUi5NKNZpAN5JqY9+2z8PknlnciajRznmWeSm72qGOve3vRzySXFcitp2GsfSbqFGIRNzUdSpTwZKZOaYhqNcjKSxtWh061I89DKla3HrlyZvG9S00+RJq1m01Pc5yjlI6X5qPYLezebgoJULSvldJ6LdiepjZuSgk4nm1m+92wPCFmBIemCXiQoFX1P6U5aUFDzkUiKrMVj8gz37GaIapmjmKLNXmlDbXfvjj9+9+74kUF5m3jSfpf9+4uVS3UUFES61O1wz7QLdFK/RqMRXKCLaE5Om5iAd7+7tc/h3e/OP+GuPSFe3vkIaTOr6xjaK/EqCwpmdoKZ3WVm95nZXjP7SFj+YTP7vpndG26rIsdsNLP9ZvaQmV1WVd1EqjJ/frHyrLkQabOMf/KT5NQUcZqT0665Bo4da33t2LGgvIhmQryLL87eNytJYK+zzUqKpHalbjfAgAXh4xHgTuB1wIeBD8Tsvwy4D5gLnAN8D2ikvYf6FKQfRPsd0trU42TNGch6vUhHdLNPIauOSe37SfsnzdUwy9/ZXtYyk5IPdfQphO99JHw6Em6ecsgVwI3uftTdHwH2AxdWVT+RMrR/0y8qq9kk6/W44aVjY/HH5P3WvWsXrFyZvV+z2ShungYEn0dSX0y7XqSElnwq7VMws4aZ3Qs8Bdzu7neGL73PzO43s21mdkpYdibweOTwg2GZSM8UTbWQd62CJFnNJp00q1x5ZfoaD0lBI1q+a9fUd/b16+P3LzshXlanvvRGpUHB3Y+7+3nAWcCFZvYaYAvwKuA84BDw8XD3uG6zad+9zGydme0xsz2HDx+uqOYyE2WtMBYnabWyvH7qp9LLkzKcHjgwtRznVVe19kls3x5Mcot+6167Nghgs8L/8e2dwyMjcMMN8XXJSoi3YEH8cUnl0t96lubCzD4EPO/uH4uULQFudvfXmNlGAHf/T+FrtwEfdve/Tzqn0lxImTpJtZB0TLtZs+L3y/OeExNTi/hAvmaq8fHg23bz+Pa0FiMjcNJJwczrbhcG6nWqD+leLWkuzGyhmZ0cPp4HXAJ818wWRXZ7G/BA+PgmYLWZzTWzc4ClwF1V1U+kXSepFvKO0U8aqprnPaPNKnm/w0X7IuKauF56CZ57Lt+5svQi1Yf0TpXLcS4CtptZgyD47HT3m83sC2Z2HkHT0KPAewHcfa+Z7QT2AS8DV7u7Mp9IzzQayRfp5pyAZctaF5AfH8/XhFRk6GgZon0OSZ3Vzd+1OQwWOrtbSLqT0noKg6nK0Uf3u/v57v6z7v4ad/+jsPwqd/8XYflb3P1Q5Jjr3P1V7v5qd/+fVdVNpCk6ceyEE7L337cPli+fep53VbOkvoMqtM8JyDPqqJtZ10lNa8puOpg0o1k6lrUqWb/XoX046fPPB+eZlfG/Yt++qcftQymTfOMb+euV5owz4subM5zjhnLmDVyaPSyAEuJJZ/phslG3dciaGFZ0IlonxxTdf8eO+H3zTA5rTrBLSmDX6SI7nXxOUi+0yI6UbcmS+Lb06KiXfq9D1iI6ad/8k/7bFB3BVPQ9yvjcy15kp5PPSerV9eijcCTRH5jZ1nDC2TYz21ZuNWWQ9EMCs27rkDUxbNmy+Nfby6NNWPPmxR9T1kSvMj73smcPJ01uSyqX/pa3T+GrwCuAXcDfRDaZofohgVmeOqT1OcS1tUc7affunR4A2kcftfdLHDkyvU9i5crWhe6jkvovksrL+tyLzh7uh/4j6ZGkdqXoBtybZ79eb+pTqM8g9CnkqWPWIjpZ8iyCk/a5dNKn0OvPPes9tWra4KHbldeA/wisyrNvLzcFhXqtXz91QWg0gue9lnZRz+pILkNWZtSs9+ykjt0GsqLnqKJDXuqVFhTyNh9dA9xsZv9kZj8Otx9VcusiA2FiIsixE80TtH17fzUr9KLfI2+zTdJ7ZjVhxek2cVzWGg55694sT+poLroIkPSJpGgxCJvuFOrTi2/hWbKaNebPj6/j/PnF3iNrjeY5c7LvFBqN9HN0+82/iKJ/uzLuFHr9O0o6ylhPwczeYmYfC7c3VxinZABU8S28aGdmXE6f6Mzc55+PPy6pPK4+73pX6zfqd71rer08x7DL48fzfSvP45RTpjKkmgXPiyj6t+vkbiZqYmJ6Jterruqvu0qJSIoW0Q24HtgNvDvcbgeuz3NslZvuFOpT9p1CJx2oSe35eVcYy7JgQfyxCxZkfw7NO4OsiWI7dkzfp9FI/r1PPjn+fCefnO93Sqtzp/0YWR3NSXdSc+bkr7OUixI6mu8HZkWeN4D78xxb5aagUJ+yR8F0cqGqugM0z/HdBqaiTVzd/k7u8U1ec+Z0/rdbvz6+Ps2BB2XUWcqVFhSK5D46OfL4FV3foshAK3sCVCfNUd02a5Qha95AUqbQZnm3TVydCr7bJT8vImsRHhkwSdEiugG/ARwAPg9sBx4BVuc5tspNdwrDo9PmqLRmjW6/oWbdBTTfP+2OKasOReuYd/+04cK9HiSgO4X+Q7fNR8E5WAS8BbgC+Gd5j6tyU1AYHjt2uM+a1XrBmDUruJh1Omol70U96fxZzSJ5zlF2E1eePoWseuf5XMq0cmX8+61cWc37SbaOgwLw0+HP18Ztacf2YlNQGB5JF7LZs1ufF+m3yOooztO23u0Evaw7iU4u0O2Bob2TuT24RoNsns+lCu2BQQGhXt0Eha3hzztitq+nHduLTUGhXmWOPU8awdJNM0fWt/CxsfjXxsY6/z3iVNnEFSfrnGmzsDWPYGZICwqVpc42sxOAbwJzCZb9/JK7f8jMTgX+ElhCsBznle7+g/CYjcB7gOPA77r7bWnvodTZ9ell+uW4fZPWPI7KSmPdDymfq6hD1jnzfNbd/C2l/5WROvvtZnZi+Pjfm9lXzOz8jMOOAm9w958DzgMuN7PXAdcCu919KcHch2vD8y4DVgPLgcuBzeH6ztKHsiaOFVVkPd+8qSWS1ltOKh8W8+enl+f5rLv5W8pgyzsk9T+4+4/N7BeBywhGIH0y7YDwLuVI+HQk3Jygo3p7WL4deGv4+ArgRnc/6u6PAPuBC3P/JtJTSYvV51nEPk6R9QZWrcq334IF6eVjY/GvJ5X3iw0bgrsgs+Dnhg2tr7/znfHHNcsvvjjf+2h5zpkpb1Bofrd6E7DF3b8KzMk6yMwaZnYv8BRwu7vfCZzu7ocAwp+vDHc/E3g8cvjBsEz6UNb4+6Iuuih7beSmW26ZepyWGiNrDsANN8DISOtrIyNBeRFZ6TnSXp+T8L8oqXzDBtiypTUR4ZYtrYEh+vlENcv370//fZp6uTaG9JGkzoboBtwMfAr4HsEktrnAfXmODY8/maBz+jXAc22v/SD8+V+Bd0TKPwv8q5hzrQP2AHsWL15cZt+LFJCng7SM9MxpHaJjY9NHDxWZI1C0jnHyrOmQNsKp6JrLedYuyPrc8ny+RWenK+HdYKGENBejwK8BS8Pni4A35jk2co4PAR8AHgIWRc7zUPh4I7Axsv9twOvTzqnRR/XJGrlTNA1GkYCQd3RSGSN75s1rPW7evNbXs+Yh5Pmc2ofdzp7d3aI83Xx2nVzUd+xwHxlpPc/IiAJDP0sLCrlGH5nZq4CD7n7UzC4Gfhb4C3d/LuWYhcBL7v6cmc0Dvgb8Z+CXgWfc/XozuxY41d0/aGbLgf9G0I9wBkEn9FJ3T+wW1Oij+sydC8eOTS+fMweOHi2+wHyZufebo5M6GdmzYUMw6iatM3revKlO9lmz4s+Vtw6nnQbPPDP9tbExePrp+POmnS9rnyw5LgfTFP0dpH5djz4CvgwcN7OfImjWOYfgAp5mEXCHmd0P/CNBn8LNBBlXLzWzh4FLw+e4+15gJ7APuBW4Oi0gDLuy18Qt+3xxASFa3osFbpJ02hbe3l6f5MUXs98rbx3iLqZp5f1oGH4HiUi6hYhuwD3hzw8CvxM+/naeY6vchrX5qOwMpFWs65vVjFE0v05ZTUdF+xSiikygy/vZZp2jaB2rbj7qRNnnk+pRQp/CnQRJ8R4AzgnLHshzbJXbsAaFshOWVZEALetCUDQQJaWQzruVMVu404tnWidrVp9CFUGhaKd9c+s09USvZoZLedKCQt7mo98EXg9c5+6PmNk5wI7y7lckquymlyqacrLW5S2aWjtpbH1ena5X3Il58/LvmzXstehcifXrs8vjUoo35zVAMGz4jDNaX1+5Enbtij93lhtumD6Eds6c4kN7pU8kRYtB2Ib1TqHsb15VfJMru8mg02+3ae9Z9PfOM1yzmVSuKc8dUdqdRFJ22LSmvTxJ+qLvOTY2fXRQt82Hae+nIan9jy4S4u0Mf36HYPW15vYdtPJaZWZiUMg7fr7Ie+ZNfZ3nd0o6Pms5zqwLZNE6dqLX6ydI/0sLCqlDUs1skbsfMrPxhLuMDpMalGNYh6RmDXOs+3zNY5Ok/JNKdOKJcORI9n5F3rPosNikBHrtmgn1IPmzjUpLLpeVtC9OdNhsoxGkCElb5ayKv78Mto6HpPpUOooDYQD4AfDjyCYV6HaYY9Xnq0IVy08W7UvJm38pehHP8xmmJZcrmrQvT5qLdr34+5c95FlqlHQLEd2A9wJPEqS6fiTc/m+eY6vchrX5qOyF1fOOBCrSLlx281E3TUfRbdmyqXN20mwSba9P2qIpJeI+27gtadGcPGkrutk/qY5l9ilUfX4pHyUMSX0YOC3Pvr3chjkolJ02IOuCX2Zaik7qUFZQiAaGTi5W0aCQ1M+Rthxn0kU7KRCV2e+RpsqOYPVZDJ4ygsKtwGiefXu5DWtQqOM/WZmTzeJ0M8mrky36vnkvhkkX6Oi38awO4E7u8oos+dnJnULVer3ms3QvLSjkzX10PvA5gklsRyNNT79bWjtWB9TRXN975ulonpgI2tIfeyw4f1w7ebPTt8zcR9E6FFFG5/nEBPzmb8JLL02VjYzA5z5XzhyK5cth377p5cuWwd693Z+/E0U79KV+ZeQ++hTwdeAfgLsjm1SgfeJRVnkZyu6MbC7XeeBAcEFN6jgdtoVcNm1qDQgQPC9rFbOHHipW3gtxk+VGR4NyGTx5g8LL7v777v45d9/e3Cqt2QwWTbiWp7wMZf/HjluuM04VI6CWLSv/nHl1Mnu8yMidflxitOjsdelvs3Pud4eZrQP+B63NR89WUqsZLqmJqMox5c3/wM3mnsWLg4DQ6X/sPMtyzplT/rfJbppRzJKb0PI69dT47KCnnhq/f3tz04EDwXOI/+wbjeR5DXVas0ZBYFjkvVP4NwSL4PwdU01Hw9eYP0Tav31u2JD9bXTNmqANuIw8QnkuUp20+6edy316QCjyLfy3f7tYeZx/+qdi5ddcE9/cdM018fsnzaUossa1SKqkHuhB2IZ19FGnww6b8oyd73aIa1Yd844SyrNKWp4tKa9QN0NS84w2Kvq5dLt/GXUUoYs0Fx9094+Gj9/u7n8Vee2P3f0Pqg9byYZ19FG3o2CSRoO062ZlrKw6Nhr5mrvyrFBWRDSlRB2jYor+7cpOFyKSRzejj1ZHHm9se+3yrmoliYqmU26XJyBAtStj5e3/KLujOZpSoo7V34r+7br9W4uULSsoWMLjuOetL5qdbWZ3mNmDZrbXzK4Jyz9sZt83s3vDbVXkmI1mtt/MHjKzywr9JkNkpuSnr2rYYjMo1pHzqejfbqb8rWWAJLUrhc1K98Q9jnsec+wi4LXh4xOB/wMsAz4MfCBm/2XAfcBcgjWgvwc00t5jWPsU3LtLS5C3Hb49dXaZuY+yUmG3t4V326cQV4e6cvIU/dtpLQLpNbpYT+E48COCjKgvh4+bz19KOzbmXF8FLk0JChuBjZHntwGvTzvnMAeFbuS5aLanXig791GeOvRbmguRmSItKGSlzm64+0nufqK7zw4fN5+PpB0bZWZLgPMJ0mQAvM/M7jezbWZ2Slh2JvB45LCDYdmMdMklQSdkc7vkknLO25xctG1b65DTuMlmaSmfs+RpE3/hBXjHO8pPcRFV5jDbQaJU1tKpvPMUOmZmC4AvA+939x8BW4BXAecBh4CPN3eNOXza+AszW2dme8xsz+HDhyuqdb0uuQR2724t2727nMCQdHGso1NWqtGeYuTAgeC5AoPkUWlQMLMRgoAw4e5fAXD3J939uLv/BPg0cGG4+0Hg7MjhZwFPtJ/T3be6+wp3X7Fw4cIqq1+b9oCQVd4u6Zt32jfysjtln9Vc99qUfdcnM0tlQcHMDPgs8KC7/2mkfFFkt7cBD4SPbwJWm9lcMzsHWArcVVX9hpknjG9PKofycx8lpXWQ6umuT7pR5Z3CRcBVwBvahp9+1My+Y2b3A78C/B6Au+8FdgL7CNZvuNrda0zzNZyS2ph7ldRs1qxq+xBkMJZflf6Vaz2FfqUZzfG6XUw+j7h+D4CVK2HXruz1GaoMDN3M1B4GzT6FaBNSt39vGS5lrKcgA+RnfiZ7n7g25iIjVs49N728rm+rIyOa+KVU1tKVpLGqg7D18zyFqiaf5ZE1cay5RZdLLDpPIWsJxqy1h8uckzA2pnkIIkXQ6TwF6UyVQwLzfIvP2yIY7VguOmIlqzP7llviX08q78aCBTNvHoJIVdSnUIFus3PmaW9PayPO214fXTe57DWae9mnUOXa1SLDSH0KPdaLIYFljDuPXkiThpB2OrS0l30KGlUjUh4FhQr06oLYz+POs+Y9lLV8pBaIFymXgkIFVq0qVt6pMoNM0gzkTmcmZ42AefWrOztvk0bViFRDfQoVOO20+AVs8o6f71WfAky1+xftBznhBDh6dHr53LnJ6xFHzZ4dvwB9HjN9HoJIt9Sn0GNJK5qVsdJZVd+Qi6a5iAsIaeXtOg0IAFde2fmxIpJudt0VkGKqGmXTDDCbNgV9FYsXBwGhqqaZRqPzwFDFsFYRCehOoSb9mO++l2sPrFvX+bH93MEuMuh0p1CBWbPiv9HPCkNwe26a5uQ2GJxO0wUL4MiR+PI8Nm8Ofm7dWvyOQUNQRaqjO4UOZH3LT2riaZb3a777IncvV11VrDzO5s3w8stBZ/eyZfmO0RBUkYol5b8YhK2O3Ed5cgQ1GvE5ehqN4PWsvEHd5j7qdC3jIrmPxsaS8xB16owzWs91xhlaY1mkCij3UXnyfMtPag5plvdLvvv586ceF717KXuE1cQEPPdca1nz+UxcY1mkLgoKBcWN5U8rj3PddUGK56iRkd43i4yPTz2ue7Wufm1SE5lpFBQKSkrPUDRtQ/sEszpWI9u3b+px0buXsbFi5VnqDkoiEqhyjeazzewOM3vQzPaa2TVh+almdruZPRz+PCVyzEYz229mD5nZZVXVrRtZTUN5bNoEx461lh07Vu+34qKT1264ARgncLUAAA8HSURBVObMaS2bM6fzBW76pUlNZKar8k7hZeDfuvvPAK8DrjazZcC1wG53XwrsDp8TvrYaWA5cDmw2s5LSppUn2uSSpzxOGU1QaU4+ufgxRVfrWrMGtm1r3X/bts7b/HuVL0pE0lUWFNz9kLvfEz7+MfAgcCZwBbA93G078Nbw8RXAje5+1N0fAfYDF1ZVv04NwsWrvcM2r6KT18qc7NbLRXlEJFlP+hTMbAlwPnAncLq7H4IgcACvDHc7E3g8ctjBsKyvJF2ktm6dGt8vxalPQaQ/VB4UzGwB8GXg/e7+o7RdY8qmpXA1s3VmtsfM9hw+fLisauaW1MRz/PjU0ptV6qe0GGVSn4JIf6g0KJjZCEFAmHD3r4TFT5rZovD1RcBTYflB4OzI4WcBT7Sf0923uvsKd1+xcOHC6iqfoKzFYTpV9prP/aJoR7eIVKPK0UcGfBZ40N3/NPLSTcDa8PFa4KuR8tVmNtfMzgGWAndVVb9OdZPyuUz9MIa/zKR+a9bA2rVTQbfRCJ5rsppIb1V5p3ARcBXwBjO7N9xWAdcDl5rZw8Cl4XPcfS+wE9gH3Apc7e59cgmeUsZ8gqRzFD13Unt7dKZyJ/XIo5nU78CBcu5eJibgk5+cCrrHjwfPh+luSGQQaOW1groNCu7p58h6PSppVbQNG2DLluzj58+Pz3SaR9GV2rJ0u5KbiOSnldeGUFp7+86d+c7x/POdv3/Zo4W6XclNRMqhoDBg8kwsK2PZzywaLSQynLTIzoApcznOWV18JbjuutaFgkCjhUSGge4UhlDei303AaZoWowsK1cWKxeRaigoDKG8F/si+ZrilJnmYteu6QFg5cqgXER6R0FhCOW52NexfkOWc89tnadw7rn11kdkJlJQGEJxs4Pb1bF+Q5rmMNroPIUtW4JyEekdzVMoqIx5CrNnx8+MbjSCheyz5jHkMTERzHh+7LGgjyHu/TqdU1CFrM9ERMqjeQp9JmuhnqQZyXlnKkNre39SH0M/ZSAtY/EiEemegkINspayfOc7419PKs9y6qnFykVk5lJQ6KFly4KfWbN3y15wJmnRnU4X4xGR4aWg0EPNtBJJ+Yaa5WUv1zkITTNlLHMqIt1TUOihfmrD7zdaT0GkPygoxChznYAoteEnK3uGtIh0RrmP2jTXCWjm9GmuEwCDe4FauRJ2744v7ydr1gzuZywyLHSn0GbTptYkb9C6ylnSyKE8nn2282O7oRQSIpKXgkKbrHUCrryy83PXmVZ6165g4ltzU0AQkThVrtG8zcyeMrMHImUfNrPvty3P2Xxto5ntN7OHzOyyquoF6X0GWesEdDosNJprKCmLabN8zpz415PKRUTKUuWdwueBy2PK/8zdzwu3WwDMbBmwGlgeHrPZzBpVVCprbeGsUTB5RhCNjARpG6KiqSuSZhg3y7dtm57qwiwoFxGpUmVBwd2/CeRtRb8CuNHdj7r7I8B+4MIq6pXVZ5A1CibpTqLRmNr/pJOm5+s5dmzqPbLG5K9ZA1/4QmsdvvAFdcKKSPXq6FN4n5ndHzYvnRKWnQk8HtnnYFhWum7XFk66k9i+fWpdgaQO5eZ75BmTX+ZaBSIiefU6KGwBXgWcBxwCPh6Wx+UFjc0HambrzGyPme05fPhw4Qpk5QHKal6Ku5NYuza4C2j2USS9R/Muoxdj8quaayEiQ87dK9uAJcADWa8BG4GNkdduA16fdf4LLrjAixobi47BmdrGxoLXx8fjX2803M2C13fsmDrfjh3uo6Ot+46MuM+Z01o2Otp6XJXi6tTL9xeR/gbs8YTrak/vFMxsUeTp24DmyKSbgNVmNtfMzgGWAndVUYekpp1meVIz0vHj8XcOcX0UL70EJ55Y3+zcrH4TEZEkVQ5J/SLw98Crzeygmb0H+KiZfcfM7gd+Bfg9AHffC+wE9gG3Ale7eyXp2rKGnOaZSxC9wCYFkWef7a5PoJvmn6Q6HTgQBKnZs7WimYgkSLqFGIStk+ajrKaV9evjm4/aN7Ng/6TmpvHxwlXLXccsSXVq39av77yOIjK46Jfmo36Q1cmbd3Ja845i1ar415PK8+i2+SfPGs0Q/N4iIlFao7nNrFnZ6yCPjk4FkiVL4tc56Gb946Q6mCVPfGsXXaM57fcZ4D+/iHRIazQXkGdyWvTOott5D0XqUCR3UnSeQyNhbnhSuYjMXAoKbfJMTot2GpdxAc9bh04XnLn44mLlIjJzKSi0KTqxrIoVw8qe3LZ/f7FyEZm5tMhOjCKLvTT3a7bfL14cBIR+SktRRROXiAwn3Sl0oH0OAZSbpygr1UZRVTRxichwUlAoqOwLdpyyZyRX0cQlIsNJQaGgXqSQKLu5pxcJ+ERkOKhPoaBetM8vXhw/96Gb5p4i/SQiMnPpTqGgXrTPq7lHROqioFBQLy7Yau4Rkbqo+aigXg1BVXOPiNRBdwodKGOpzKzU2Fo5TUTqoKBQgqIX8Kxhrb0Y9ioiEkdZUrvUvIBHh6lGs6jGycqsWkXmVRGRprQsqQoKXerkAp6VGruM1NkiIklqSZ1tZtvM7CkzeyBSdqqZ3W5mD4c/T4m8ttHM9pvZQ2Z2WVX1Klsn8xY6XRJUaSlEpGpV9il8Hri8rexaYLe7LwV2h88xs2XAamB5eMxmMxuIbP+dXMCzhrVqnoKI1KWyoODu3wSebSu+AtgePt4OvDVSfqO7H3X3R4D9wIVV1a1MnVzAs+YhaJ6CiNSl1/MUTnf3QwDufsjMXhmWnwn8Q2S/g2FZ3+t03kLWPATNUxCROvTL5DWLKYvtATezdcA6gMV90siuC7iIDItez1N40swWAYQ/nwrLDwJnR/Y7C3gi7gTuvtXdV7j7ioULF1ZaWRGRmabXQeEmYG34eC3w1Uj5ajOba2bnAEuBu3pcNxGRGa+y5iMz+yJwMXCamR0EPgRcD+w0s/cAjwFvB3D3vWa2E9gHvAxc7e7Hq6qbiIjEqywouPtvJLy0MmH/6wANuhQRqZFyH4mIyKSBTnNhZoeBmCQTuZ0GPF1SdaqiOpZDdSyH6liOuus47u6xI3UGOih0y8z2JOX/6BeqYzlUx3KojuXo5zqq+UhERCYpKIiIyKSZHhS21l2BHFTHcqiO5VAdy9G3dZzRfQoiItJqpt8piIhIxIwMCnELAPUbMzvbzO4wswfNbK+ZXVN3ndqZ2QlmdpeZ3RfW8SN11ymOmTXM7NtmdnPddUliZo+a2XfM7F4zq3c5wQRmdrKZfcnMvhv+u3x93XWKMrNXh59fc/uRmb2/7nq1M7PfC/+/PGBmXzSzE+quU9SMbD4ys18CjgB/4e6vqbs+ccKEgYvc/R4zOxG4G3iru++ruWqTzMyA+e5+xMxGgG8B17j7P2Qc2lNm9vvACuAkd39z3fWJY2aPAivcvW/H15vZduB/uftnzGwOMOruz9VdrzjhIl3fB37B3buZy1QqMzuT4P/JMnd/MUzvc4u7f77emk2ZkXcKCQsA9RV3P+Tu94SPfww8SJ+tMeGBI+HTkXDrq28ZZnYW8CbgM3XXZZCZ2UnALwGfBXD3Y/0aEEIrge/1U0CImA3MM7PZwCgJGaHrMiODwqAxsyXA+cCd9dZkurBp5l6CNOi3u3u/1fETwAeBn9RdkQwOfM3M7g7XDOk3/xw4DHwubIr7jJnNr7tSKVYDX6y7Eu3c/fvAxwgSgh4CfujuX6u3Vq0UFPqcmS0Avgy8391/VHd92rn7cXc/j2ANjAvNrG+a48zszcBT7n533XXJ4SJ3fy3wq8DVYRNnP5kNvBbY4u7nA88TrrHeb8KmrbcAf1V3XdqZ2SkEyw+fA5wBzDezd9Rbq1YKCn0sbKf/MjDh7l+puz5pwqaEbwCX11yVqIuAt4Tt9TcCbzCzHfVWKZ67PxH+fAr4a/pvjfKDwMHIneCXCIJEP/pV4B53f7LuisS4BHjE3Q+7+0vAV4B/WXOdWigo9KmwE/ezwIPu/qd11yeOmS00s5PDx/MI/sF/t95aTXH3je5+lrsvIWhO+Lq799W3MgAzmx8OJiBsknkj0Fcj49z9/wGPm9mrw6KVBOuf9KPfoA+bjkKPAa8zs9Hw//hKgv7CvjEjg0K4ANDfA682s4Phoj/95iLgKoJvt80hdqvqrlSbRcAdZnY/8I8EfQp9O+yzj50OfMvM7iNYcfBv3P3WmusU53eAifDvfR7wxzXXZxozGwUuJfgG3nfCO60vAfcA3yG4BvfV7OYZOSRVRETizcg7BRERiaegICIikxQURERkkoKCiIhMUlAQEZFJCgoyY5jZ8bYsmh3PyDWzvyuzbm3nXmFmf17V+UXSaEiqzBhmdsTdF9RdD5F+pjsFmfHCtQw+Ymb3hGsa/HRYvtDMbg/LP2VmB8zstPC1I+HPi83sG5F1BibCmaqY2QVm9rdhkrvbwnTo7e/99jCv/n1m9s3IOW8OH98SubP5oZmtDZMQ/omZ/aOZ3W9m7+3VZyXDT0FBZpJ5bc1H/zry2tNhQrotwAfCsg8RpMZ4LUE+osUJ5z0feD+wjCCb6EVh3qr/Avy6u18AbAOuizn2D4HL3P3nCJK4tXD3VWHCwfcAB4D/Hj7+obv/PPDzwG+Z2Tn5PwaRZLPrroBID70YXmDjNNMi3A38Wvj4F4G3Abj7rWb2g4Rj73L3gwBhGvElwHPAa4DbwxuHBkGq5Hb/G/h8uNhKbGqG8O7kC8CV7v5DM3sj8LNm9uvhLq8AlgKPJNRPJDcFBZHA0fDncab+X1jBY6PHG7DX3VOXrHT33zazXyBYCOheM2sJWuEKYjcCf+TuzSR5BvyOu9+Ws34iuan5SCTZt4ArAcJv56cUOPYhYKGF6xib2YiZLW/fycxe5e53uvsfAk8DZ7ftcj1wv7vfGCm7DVgfNlFhZuf2+YI3MkB0pyAzybyweafpVndPG5b6EeCLYd/D3xI0//w4zxu5+7GweefPzewVBP/XPgHsbdv1T8xsKcG3/93AfcAvR17/ALA3Uu8/JFhadAlwT9ipfRh4a556iWTRkFSRBGY2Fzju7i+H3/i3pPRJiAwF3SmIJFsM7DSzWcAx4Ldqro9I5XSnICIik9TRLCIikxQURERkkoKCiIhMUlAQEZFJCgoiIjJJQUFERCb9f0AjXl4Bk+IVAAAAAElFTkSuQmCC\n",
      "text/plain": [
       "<Figure size 432x288 with 1 Axes>"
      ]
     },
     "metadata": {
      "needs_background": "light"
     },
     "output_type": "display_data"
    }
   ],
   "source": [
    "plt.scatter(train.ENGINESIZE, train.CO2EMISSIONS,  color='blue')\n",
    "plt.xlabel(\"Engine size\")\n",
    "plt.ylabel(\"Emission\")\n",
    "plt.show()"
   ]
  },
  {
   "cell_type": "markdown",
   "metadata": {
    "button": false,
    "deletable": true,
    "new_sheet": false,
    "run_control": {
     "read_only": false
    }
   },
   "source": [
    "#### Modeling\n",
    "Using sklearn package to model data."
   ]
  },
  {
   "cell_type": "code",
   "execution_count": 15,
   "metadata": {
    "button": false,
    "deletable": true,
    "new_sheet": false,
    "run_control": {
     "read_only": false
    }
   },
   "outputs": [
    {
     "name": "stdout",
     "output_type": "stream",
     "text": [
      "Coefficients:  [[38.97208724]]\n",
      "Intercept:  [125.60303744]\n"
     ]
    }
   ],
   "source": [
    "from sklearn import linear_model\n",
    "regr = linear_model.LinearRegression()\n",
    "train_x = np.asanyarray(train[['ENGINESIZE']])\n",
    "train_y = np.asanyarray(train[['CO2EMISSIONS']])\n",
    "regr.fit (train_x, train_y)\n",
    "# The coefficients\n",
    "print ('Coefficients: ', regr.coef_)\n",
    "print ('Intercept: ',regr.intercept_)"
   ]
  },
  {
   "cell_type": "markdown",
   "metadata": {},
   "source": [
    "As mentioned before, __Coefficient__ and __Intercept__ in the simple linear regression, are the parameters of the fit line. \n",
    "Given that it is a simple linear regression, with only 2 parameters, and knowing that the parameters are the intercept and slope of the line, sklearn can estimate them directly from our data. \n",
    "Notice that all of the data must be available to traverse and calculate the parameters.\n"
   ]
  },
  {
   "cell_type": "markdown",
   "metadata": {
    "button": false,
    "deletable": true,
    "new_sheet": false,
    "run_control": {
     "read_only": false
    }
   },
   "source": [
    "#### Plot outputs"
   ]
  },
  {
   "cell_type": "markdown",
   "metadata": {},
   "source": [
    "we can plot the fit line over the data:"
   ]
  },
  {
   "cell_type": "code",
   "execution_count": 16,
   "metadata": {
    "button": false,
    "deletable": true,
    "new_sheet": false,
    "run_control": {
     "read_only": false
    }
   },
   "outputs": [
    {
     "data": {
      "text/plain": [
       "Text(0, 0.5, 'Emission')"
      ]
     },
     "execution_count": 16,
     "metadata": {},
     "output_type": "execute_result"
    },
    {
     "data": {
      "image/png": "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\n",
      "text/plain": [
       "<Figure size 432x288 with 1 Axes>"
      ]
     },
     "metadata": {
      "needs_background": "light"
     },
     "output_type": "display_data"
    }
   ],
   "source": [
    "plt.scatter(train.ENGINESIZE, train.CO2EMISSIONS,  color='blue')\n",
    "plt.plot(train_x, regr.coef_[0][0]*train_x + regr.intercept_[0], '-r')\n",
    "plt.xlabel(\"Engine size\")\n",
    "plt.ylabel(\"Emission\")"
   ]
  },
  {
   "cell_type": "markdown",
   "metadata": {
    "button": false,
    "deletable": true,
    "new_sheet": false,
    "run_control": {
     "read_only": false
    }
   },
   "source": [
    "#### Evaluation\n",
    "we compare the actual values and predicted values to calculate the accuracy of a regression model. Evaluation metrics provide a key role in the development of a model, as it provides insight to areas that require improvement.\n",
    "\n",
    "There are different model evaluation metrics, lets use MSE here to calculate the accuracy of our model based on the test set: \n",
    "<ul>\n",
    "    <li> Mean absolute error: It is the mean of the absolute value of the errors. This is the easiest of the metrics to understand since it’s just average error.</li>\n",
    "    <li> Mean Squared Error (MSE): Mean Squared Error (MSE) is the mean of the squared error. It’s more popular than Mean absolute error because the focus is geared more towards large errors. This is due to the squared term exponentially increasing larger errors in comparison to smaller ones.</li>\n",
    "    <li> Root Mean Squared Error (RMSE): This is the square root of the Mean Square Error. </li>\n",
    "    <li> R-squared is not error, but is a popular metric for accuracy of your model. It represents how close the data are to the fitted regression line. The higher the R-squared, the better the model fits your data. Best possible score is 1.0 and it can be negative (because the model can be arbitrarily worse).</li>\n",
    "</ul>"
   ]
  },
  {
   "cell_type": "code",
   "execution_count": 18,
   "metadata": {
    "button": false,
    "deletable": true,
    "new_sheet": false,
    "run_control": {
     "read_only": false
    },
    "scrolled": true
   },
   "outputs": [
    {
     "name": "stdout",
     "output_type": "stream",
     "text": [
      "Mean absolute error: 22.62\n",
      "Residual sum of squares (MSE): 861.32\n",
      "R2-score: 0.72\n"
     ]
    }
   ],
   "source": [
    "from sklearn.metrics import r2_score\n",
    "\n",
    "test_x = np.asanyarray(test[['ENGINESIZE']])\n",
    "test_y = np.asanyarray(test[['CO2EMISSIONS']])\n",
    "test_y_hat = regr.predict(test_x)\n",
    "\n",
    "print(\"Mean absolute error: %.2f\" % np.mean(np.absolute(test_y_hat - test_y)))\n",
    "print(\"Residual sum of squares (MSE): %.2f\" % np.mean((test_y_hat - test_y) ** 2))\n",
    "print(\"R2-score: %.2f\" % r2_score(test_y_hat , test_y) )"
   ]
  },
  {
   "cell_type": "markdown",
   "metadata": {
    "button": false,
    "deletable": true,
    "new_sheet": false,
    "run_control": {
     "read_only": false
    }
   },
   "source": [
    "<h2>Want to learn more?</h2>\n",
    "\n",
    "IBM SPSS Modeler is a comprehensive analytics platform that has many machine learning algorithms. It has been designed to bring predictive intelligence to decisions made by individuals, by groups, by systems – by your enterprise as a whole. A free trial is available through this course, available here: <a href=\"http://cocl.us/ML0101EN-SPSSModeler\">SPSS Modeler</a>\n",
    "\n",
    "Also, you can use Watson Studio to run these notebooks faster with bigger datasets. Watson Studio is IBM's leading cloud solution for data scientists, built by data scientists. With Jupyter notebooks, RStudio, Apache Spark and popular libraries pre-packaged in the cloud, Watson Studio enables data scientists to collaborate on their projects without having to install anything. Join the fast-growing community of Watson Studio users today with a free account at <a href=\"https://cocl.us/ML0101EN_DSX\">Watson Studio</a>\n",
    "\n",
    "<h3>Thanks for completing this lesson!</h3>\n",
    "\n",
    "<h4>Author:  <a href=\"https://ca.linkedin.com/in/saeedaghabozorgi\">Saeed Aghabozorgi</a></h4>\n",
    "<p><a href=\"https://ca.linkedin.com/in/saeedaghabozorgi\">Saeed Aghabozorgi</a>, PhD is a Data Scientist in IBM with a track record of developing enterprise level applications that substantially increases clients’ ability to turn data into actionable knowledge. He is a researcher in data mining field and expert in developing advanced analytic methods like machine learning and statistical modelling on large datasets.</p>\n",
    "\n",
    "<hr>\n",
    "\n",
    "<p>Copyright &copy; 2018 <a href=\"https://cocl.us/DX0108EN_CC\">Cognitive Class</a>. This notebook and its source code are released under the terms of the <a href=\"https://bigdatauniversity.com/mit-license/\">MIT License</a>.</p>"
   ]
  }
 ],
 "metadata": {
  "kernelspec": {
   "display_name": "Python",
   "language": "python",
   "name": "conda-env-python-py"
  },
  "language_info": {
   "codemirror_mode": {
    "name": "ipython",
    "version": 3
   },
   "file_extension": ".py",
   "mimetype": "text/x-python",
   "name": "python",
   "nbconvert_exporter": "python",
   "pygments_lexer": "ipython3",
   "version": "3.6.7"
  },
  "widgets": {
   "state": {},
   "version": "1.1.2"
  }
 },
 "nbformat": 4,
 "nbformat_minor": 4
}
